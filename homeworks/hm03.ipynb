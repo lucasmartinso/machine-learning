{
 "cells": [
  {
   "cell_type": "markdown",
   "id": "b4089afb",
   "metadata": {},
   "source": [
    "## Programming"
   ]
  },
  {
   "cell_type": "markdown",
   "id": "189fbc11",
   "metadata": {},
   "source": [
    "### Bibliotecas utilizadas"
   ]
  },
  {
   "cell_type": "code",
   "execution_count": 1,
   "id": "09eae96e",
   "metadata": {},
   "outputs": [],
   "source": [
    "import pandas as pd\n",
    "import numpy as np\n",
    "import matplotlib.pyplot as plt\n",
    "from sklearn.model_selection import KFold\n",
    "from sklearn.linear_model import LinearRegression\n",
    "from sklearn.neural_network import MLPRegressor\n",
    "from sklearn.metrics import mean_absolute_error\n",
    "from sklearn.preprocessing import StandardScaler"
   ]
  },
  {
   "cell_type": "markdown",
   "id": "657e46e5",
   "metadata": {},
   "source": [
    "### Leitura e Análise da base dados"
   ]
  },
  {
   "cell_type": "code",
   "execution_count": 2,
   "id": "e4f83bd9",
   "metadata": {},
   "outputs": [
    {
     "data": {
      "application/vnd.microsoft.datawrangler.viewer.v0+json": {
       "columns": [
        {
         "name": "index",
         "rawType": "int64",
         "type": "integer"
        },
        {
         "name": "bathrooms",
         "rawType": "float64",
         "type": "float"
        },
        {
         "name": "bedrooms",
         "rawType": "int64",
         "type": "integer"
        },
        {
         "name": "price",
         "rawType": "int64",
         "type": "integer"
        },
        {
         "name": "longitude",
         "rawType": "float64",
         "type": "float"
        },
        {
         "name": "latitude",
         "rawType": "float64",
         "type": "float"
        },
        {
         "name": "interest_level",
         "rawType": "int64",
         "type": "integer"
        }
       ],
       "ref": "8ef65e25-6177-4f4f-a165-4b0812628057",
       "rows": [
        [
         "0",
         "1.5",
         "3",
         "3000",
         "-73.9425",
         "40.7145",
         "2"
        ],
        [
         "1",
         "1.0",
         "2",
         "5465",
         "-73.9667",
         "40.7947",
         "1"
        ],
        [
         "2",
         "1.0",
         "1",
         "2850",
         "-74.0018",
         "40.7388",
         "3"
        ],
        [
         "3",
         "1.0",
         "1",
         "3275",
         "-73.9677",
         "40.7539",
         "1"
        ],
        [
         "4",
         "1.0",
         "4",
         "3350",
         "-73.9493",
         "40.8241",
         "1"
        ],
        [
         "5",
         "2.0",
         "4",
         "7995",
         "-74.0028",
         "40.7429",
         "2"
        ],
        [
         "6",
         "1.0",
         "2",
         "3600",
         "-73.96600000000002",
         "40.8012",
         "1"
        ],
        [
         "7",
         "2.0",
         "1",
         "5645",
         "-73.9957",
         "40.7427",
         "1"
        ],
        [
         "8",
         "1.0",
         "1",
         "1725",
         "-73.9457",
         "40.8234",
         "2"
        ],
        [
         "9",
         "2.0",
         "4",
         "5800",
         "-73.9808",
         "40.7278",
         "1"
        ],
        [
         "10",
         "1.0",
         "0",
         "1950",
         "-73.9467",
         "40.7769",
         "1"
        ],
        [
         "11",
         "1.0",
         "1",
         "1675",
         "-73.9396",
         "40.8448",
         "1"
        ],
        [
         "12",
         "1.0",
         "2",
         "3000",
         "-73.977",
         "40.7488",
         "3"
        ],
        [
         "13",
         "2.0",
         "2",
         "6895",
         "-73.9817",
         "40.7707",
         "1"
        ],
        [
         "14",
         "1.0",
         "1",
         "3050",
         "-73.9648",
         "40.7584",
         "1"
        ],
        [
         "15",
         "1.0",
         "0",
         "2350",
         "-73.9743",
         "40.7439",
         "2"
        ],
        [
         "16",
         "1.0",
         "2",
         "3650",
         "-73.983",
         "40.7305",
         "1"
        ],
        [
         "17",
         "1.0",
         "1",
         "1695",
         "-73.928",
         "40.8643",
         "1"
        ],
        [
         "18",
         "1.0",
         "4",
         "5000",
         "-73.9638",
         "40.7999",
         "1"
        ],
        [
         "19",
         "1.0",
         "1",
         "3973",
         "-73.9799",
         "40.7328",
         "1"
        ],
        [
         "20",
         "1.0",
         "3",
         "4395",
         "-73.9845",
         "40.7454",
         "1"
        ],
        [
         "21",
         "1.0",
         "2",
         "2999",
         "-73.9794",
         "40.7427",
         "2"
        ],
        [
         "22",
         "1.0",
         "1",
         "2595",
         "-73.9741",
         "40.7447",
         "1"
        ],
        [
         "23",
         "1.0",
         "1",
         "3695",
         "-74.0081",
         "40.7074",
         "1"
        ],
        [
         "24",
         "2.0",
         "4",
         "7400",
         "-73.9936",
         "40.7391",
         "2"
        ],
        [
         "25",
         "3.5",
         "4",
         "7500",
         "-73.9653",
         "40.7584",
         "1"
        ],
        [
         "26",
         "1.0",
         "1",
         "2295",
         "-73.9502",
         "40.7728",
         "2"
        ],
        [
         "27",
         "1.0",
         "1",
         "3164",
         "-73.9917",
         "40.7709",
         "1"
        ],
        [
         "28",
         "1.0",
         "1",
         "1350",
         "-73.9141",
         "40.8335",
         "3"
        ],
        [
         "29",
         "2.0",
         "2",
         "5600",
         "-73.9506",
         "40.7716",
         "1"
        ],
        [
         "30",
         "1.0",
         "0",
         "2750",
         "-73.976",
         "40.7897",
         "2"
        ],
        [
         "31",
         "1.0",
         "2",
         "3500",
         "-73.9678",
         "40.7902",
         "2"
        ],
        [
         "32",
         "1.0",
         "1",
         "5165",
         "-74.0148",
         "40.7179",
         "1"
        ],
        [
         "33",
         "1.0",
         "2",
         "4400",
         "-73.9942",
         "40.7301",
         "1"
        ],
        [
         "34",
         "1.0",
         "2",
         "2300",
         "-73.9404",
         "40.844",
         "1"
        ],
        [
         "35",
         "1.0",
         "1",
         "1650",
         "-73.9418",
         "40.79",
         "1"
        ],
        [
         "36",
         "1.0",
         "0",
         "1300",
         "-73.9389",
         "40.8184",
         "1"
        ],
        [
         "37",
         "1.0",
         "0",
         "1980",
         "-73.9763",
         "40.7649",
         "3"
        ],
        [
         "38",
         "2.0",
         "2",
         "6500",
         "-73.9867",
         "40.7471",
         "1"
        ],
        [
         "39",
         "1.0",
         "0",
         "2396",
         "-73.9959",
         "40.753",
         "2"
        ],
        [
         "40",
         "1.0",
         "3",
         "3733",
         "-74.0044",
         "40.7231",
         "1"
        ],
        [
         "41",
         "3.0",
         "4",
         "15000",
         "-73.9533",
         "40.7723",
         "1"
        ],
        [
         "42",
         "1.0",
         "0",
         "2400",
         "-73.954",
         "40.7753",
         "2"
        ],
        [
         "43",
         "1.0",
         "0",
         "1850",
         "-73.9511",
         "40.7739",
         "2"
        ],
        [
         "44",
         "1.0",
         "1",
         "2500",
         "-73.957",
         "40.8031",
         "1"
        ],
        [
         "45",
         "1.0",
         "1",
         "2045",
         "-73.9626",
         "40.7975",
         "2"
        ],
        [
         "46",
         "1.0",
         "0",
         "2650",
         "-73.9981",
         "40.7372",
         "1"
        ],
        [
         "47",
         "1.0",
         "2",
         "3745",
         "-74.0005",
         "40.7479",
         "1"
        ],
        [
         "48",
         "1.0",
         "1",
         "1900",
         "-73.9504",
         "40.7802",
         "1"
        ],
        [
         "49",
         "1.0",
         "2",
         "5595",
         "-73.9831",
         "40.7377",
         "1"
        ]
       ],
       "shape": {
        "columns": 6,
        "rows": 49352
       }
      },
      "text/html": [
       "<div>\n",
       "<style scoped>\n",
       "    .dataframe tbody tr th:only-of-type {\n",
       "        vertical-align: middle;\n",
       "    }\n",
       "\n",
       "    .dataframe tbody tr th {\n",
       "        vertical-align: top;\n",
       "    }\n",
       "\n",
       "    .dataframe thead th {\n",
       "        text-align: right;\n",
       "    }\n",
       "</style>\n",
       "<table border=\"1\" class=\"dataframe\">\n",
       "  <thead>\n",
       "    <tr style=\"text-align: right;\">\n",
       "      <th></th>\n",
       "      <th>bathrooms</th>\n",
       "      <th>bedrooms</th>\n",
       "      <th>price</th>\n",
       "      <th>longitude</th>\n",
       "      <th>latitude</th>\n",
       "      <th>interest_level</th>\n",
       "    </tr>\n",
       "  </thead>\n",
       "  <tbody>\n",
       "    <tr>\n",
       "      <th>0</th>\n",
       "      <td>1.5</td>\n",
       "      <td>3</td>\n",
       "      <td>3000</td>\n",
       "      <td>-73.9425</td>\n",
       "      <td>40.7145</td>\n",
       "      <td>2</td>\n",
       "    </tr>\n",
       "    <tr>\n",
       "      <th>1</th>\n",
       "      <td>1.0</td>\n",
       "      <td>2</td>\n",
       "      <td>5465</td>\n",
       "      <td>-73.9667</td>\n",
       "      <td>40.7947</td>\n",
       "      <td>1</td>\n",
       "    </tr>\n",
       "    <tr>\n",
       "      <th>2</th>\n",
       "      <td>1.0</td>\n",
       "      <td>1</td>\n",
       "      <td>2850</td>\n",
       "      <td>-74.0018</td>\n",
       "      <td>40.7388</td>\n",
       "      <td>3</td>\n",
       "    </tr>\n",
       "    <tr>\n",
       "      <th>3</th>\n",
       "      <td>1.0</td>\n",
       "      <td>1</td>\n",
       "      <td>3275</td>\n",
       "      <td>-73.9677</td>\n",
       "      <td>40.7539</td>\n",
       "      <td>1</td>\n",
       "    </tr>\n",
       "    <tr>\n",
       "      <th>4</th>\n",
       "      <td>1.0</td>\n",
       "      <td>4</td>\n",
       "      <td>3350</td>\n",
       "      <td>-73.9493</td>\n",
       "      <td>40.8241</td>\n",
       "      <td>1</td>\n",
       "    </tr>\n",
       "    <tr>\n",
       "      <th>...</th>\n",
       "      <td>...</td>\n",
       "      <td>...</td>\n",
       "      <td>...</td>\n",
       "      <td>...</td>\n",
       "      <td>...</td>\n",
       "      <td>...</td>\n",
       "    </tr>\n",
       "    <tr>\n",
       "      <th>49347</th>\n",
       "      <td>1.0</td>\n",
       "      <td>2</td>\n",
       "      <td>3200</td>\n",
       "      <td>-73.9790</td>\n",
       "      <td>40.7426</td>\n",
       "      <td>2</td>\n",
       "    </tr>\n",
       "    <tr>\n",
       "      <th>49348</th>\n",
       "      <td>1.0</td>\n",
       "      <td>1</td>\n",
       "      <td>3950</td>\n",
       "      <td>-74.0163</td>\n",
       "      <td>40.7102</td>\n",
       "      <td>1</td>\n",
       "    </tr>\n",
       "    <tr>\n",
       "      <th>49349</th>\n",
       "      <td>1.0</td>\n",
       "      <td>1</td>\n",
       "      <td>2595</td>\n",
       "      <td>-73.9900</td>\n",
       "      <td>40.7601</td>\n",
       "      <td>1</td>\n",
       "    </tr>\n",
       "    <tr>\n",
       "      <th>49350</th>\n",
       "      <td>1.0</td>\n",
       "      <td>0</td>\n",
       "      <td>3350</td>\n",
       "      <td>-74.0101</td>\n",
       "      <td>40.7066</td>\n",
       "      <td>1</td>\n",
       "    </tr>\n",
       "    <tr>\n",
       "      <th>49351</th>\n",
       "      <td>1.0</td>\n",
       "      <td>2</td>\n",
       "      <td>2200</td>\n",
       "      <td>-73.9172</td>\n",
       "      <td>40.8699</td>\n",
       "      <td>1</td>\n",
       "    </tr>\n",
       "  </tbody>\n",
       "</table>\n",
       "<p>49352 rows × 6 columns</p>\n",
       "</div>"
      ],
      "text/plain": [
       "       bathrooms  bedrooms  price  longitude  latitude  interest_level\n",
       "0            1.5         3   3000   -73.9425   40.7145               2\n",
       "1            1.0         2   5465   -73.9667   40.7947               1\n",
       "2            1.0         1   2850   -74.0018   40.7388               3\n",
       "3            1.0         1   3275   -73.9677   40.7539               1\n",
       "4            1.0         4   3350   -73.9493   40.8241               1\n",
       "...          ...       ...    ...        ...       ...             ...\n",
       "49347        1.0         2   3200   -73.9790   40.7426               2\n",
       "49348        1.0         1   3950   -74.0163   40.7102               1\n",
       "49349        1.0         1   2595   -73.9900   40.7601               1\n",
       "49350        1.0         0   3350   -74.0101   40.7066               1\n",
       "49351        1.0         2   2200   -73.9172   40.8699               1\n",
       "\n",
       "[49352 rows x 6 columns]"
      ]
     },
     "execution_count": 2,
     "metadata": {},
     "output_type": "execute_result"
    }
   ],
   "source": [
    "df = pd.read_csv('./rent.csv')\n",
    "df"
   ]
  },
  {
   "cell_type": "markdown",
   "id": "073388e1",
   "metadata": {},
   "source": [
    "Basicamente o dataset analisa elementos de uma residência como número de quatos e banheiros, o preço estipulado, além da localização(longitude e latitude). E assim, a partir dessas informações ele determina um outcome chamado nível de interesse que leva em conta essas features que descrevi anteriormente, na qual ele determina 3 níveis de interesse 1,2 ou 3"
   ]
  },
  {
   "cell_type": "markdown",
   "id": "7e4961fb",
   "metadata": {},
   "source": [
    "### 5) "
   ]
  },
  {
   "cell_type": "markdown",
   "id": "d54363bd",
   "metadata": {},
   "source": [
    "- Primeiro vamos separar as features do outcome\n",
    "- Como pode-se observar as escalas das features são totalmente distintas uma das outras, assim o ideal é aplicar uma normalização de escalas nessas variáveis, a fim de evitar com que variáveis sejam mais influentes que outras sem a proporcionalidade que era a real. No qual, este ponto vai ser vital neste caso, pois modelos que usam distâncias ou otimização baseada em gradiente, que é o caso das Redes Neurais, necessitam destes tipos de ajustes para evitar alucinações ou alto viés falso\n",
    "- A cross validation nada mais é do que uma técnica p/ estimar a performance generalizada do modelo em dados não vistos"
   ]
  },
  {
   "cell_type": "code",
   "execution_count": 3,
   "id": "8c58056f",
   "metadata": {},
   "outputs": [],
   "source": [
    "#separando features e outcome\n",
    "y = df['price']\n",
    "X = df.drop(columns=['price'])"
   ]
  },
  {
   "cell_type": "markdown",
   "id": "d343195f",
   "metadata": {},
   "source": [
    "- Agora, vamos executar o 5-fold cross-validation p/ três modelos: Linear Regression, MLP without activation e MLP com ReLu \n",
    "- E p/ cada um deles vamos calcular o MAE(Mean Absolute Error) de cada um dos folds\n",
    "- Após criarmos os 5 folds, setamos 3 arrays um p/ cada um dos modelos que descrevi anteriormente p/ justamente armazenar os MAEs de cada um dos folds de cada um dos modelos\n",
    "- Aplicamos o shuffle nessa situação p/ somente embaralhar os dados, e evitar com que caso o dataset siga um determinada ordem(asc ou desc) o embaralhamento vai promover folds mais equilibrado, o que pode nos levar a melhores resultados"
   ]
  },
  {
   "cell_type": "code",
   "execution_count": 4,
   "id": "bdf94eaf",
   "metadata": {},
   "outputs": [],
   "source": [
    "#5-folds cross-validation\n",
    "kf = KFold(n_splits=5, shuffle=True, random_state=42)\n",
    "\n",
    "# Listas para guardar os MAEs\n",
    "mae_linear = []\n",
    "mae_mlp_no_activation = []\n",
    "mae_mlp_relu = []"
   ]
  },
  {
   "cell_type": "markdown",
   "id": "e3c07857",
   "metadata": {},
   "source": [
    "Dentro de cada um dos folds, vamos seguir o seguinte pipeline:\n",
    "- Ajustamos o scaler com X_train, p/ separação entre treino e teste\n",
    "- Treinamos o modelo \n",
    "- Predizemos \n",
    "- Por fim, calculamos o MAE entre o dataset de teste e o que foi previmos com base no nossos modelos\n",
    "\n",
    "Linear Regression: \n",
    "- Assume a relação linear entre features e target \n",
    "- Cada coeficiente mostra a direção do efeito de cada uma das features \n",
    "- Tem tendência ao underfiting se o padrão não for linear, mas tem um baixo custo\n",
    "\n",
    "MLP Regressor(no-ativation): \n",
    "- Aplicação de funções não lineares nas \"camadas escondidas\"\n",
    "- Mas nesse caso, como não estamos usando funções de ativação, cada camada vai realizar uma transformação linear, o que não vai nos fornecer uma maior poder do que uma Regrssão Linear, mas ainda é distinta da regressão devido a diferentes otimizadores e regularizações\n",
    "\n",
    "MLP Regressor(ReLu ativation): \n",
    "- Introduz a não linearidade por peça linar e cria capacidade de modelar relações não lineares e iterações mais complexas"
   ]
  },
  {
   "cell_type": "code",
   "execution_count": 5,
   "id": "b2444791",
   "metadata": {},
   "outputs": [],
   "source": [
    "#cross-validation\n",
    "for train_index, test_index in kf.split(X):\n",
    "    X_train, X_test = X.iloc[train_index], X.iloc[test_index]\n",
    "    y_train, y_test = y.iloc[train_index], y.iloc[test_index]\n",
    "\n",
    "    scaler = StandardScaler()\n",
    "    X_train = scaler.fit_transform(X_train)\n",
    "    X_test = scaler.transform(X_test)\n",
    "\n",
    "    # (a) Modelo Linear\n",
    "    lin_reg = LinearRegression()\n",
    "    lin_reg.fit(X_train, y_train)\n",
    "    y_pred = lin_reg.predict(X_test)\n",
    "    mae_linear.append(mean_absolute_error(y_test, y_pred))\n",
    "\n",
    "    # (b) MLP sem ativação (hidden layers de 5 neurônios)\n",
    "    mlp_no_act = MLPRegressor(hidden_layer_sizes=(5,5),\n",
    "                              activation='identity', \n",
    "                              max_iter=2000,\n",
    "                              random_state=42)\n",
    "    mlp_no_act.fit(X_train, y_train)\n",
    "    y_pred = mlp_no_act.predict(X_test)\n",
    "    mae_mlp_no_activation.append(mean_absolute_error(y_test, y_pred))\n",
    "\n",
    "    # (c) MLP com ReLU\n",
    "    mlp_relu = MLPRegressor(hidden_layer_sizes=(5,5),\n",
    "                            activation='relu',\n",
    "                            max_iter=2000,\n",
    "                            random_state=42)\n",
    "    mlp_relu.fit(X_train, y_train)\n",
    "    y_pred = mlp_relu.predict(X_test)\n",
    "    mae_mlp_relu.append(mean_absolute_error(y_test, y_pred))"
   ]
  },
  {
   "cell_type": "code",
   "execution_count": 6,
   "id": "13bae864",
   "metadata": {},
   "outputs": [
    {
     "name": "stdout",
     "output_type": "stream",
     "text": [
      "Resultados médios de MAE (5-fold):\n",
      "Linear Regression: 1090.8010\n",
      "MLP (sem ativação): 1090.5848\n",
      "MLP (ReLU): 1007.4768\n"
     ]
    },
    {
     "name": "stderr",
     "output_type": "stream",
     "text": [
      "/tmp/ipykernel_60758/3032647660.py:9: MatplotlibDeprecationWarning: The 'labels' parameter of boxplot() has been renamed 'tick_labels' since Matplotlib 3.9; support for the old name will be dropped in 3.11.\n",
      "  plt.boxplot([mae_linear, mae_mlp_no_activation, mae_mlp_relu],\n"
     ]
    },
    {
     "data": {
      "image/png": "[encoded data removed]",
      "text/plain": [
       "<Figure size 800x500 with 1 Axes>"
      ]
     },
     "metadata": {},
     "output_type": "display_data"
    }
   ],
   "source": [
    "#printando resultados médios\n",
    "print(\"Resultados médios de MAE (5-fold):\")\n",
    "print(f\"Linear Regression: {np.mean(mae_linear):.4f}\")\n",
    "print(f\"MLP (sem ativação): {np.mean(mae_mlp_no_activation):.4f}\")\n",
    "print(f\"MLP (ReLU): {np.mean(mae_mlp_relu):.4f}\")\n",
    "\n",
    "#boxplot dos resultado\n",
    "plt.figure(figsize=(8,5))\n",
    "plt.boxplot([mae_linear, mae_mlp_no_activation, mae_mlp_relu],\n",
    "            labels=['Linear', 'MLP (identity)', 'MLP (ReLU)'],\n",
    "            patch_artist=True)\n",
    "plt.ylabel('Test MAE')\n",
    "plt.title('Comparação de Modelos - 5-Fold Cross Validation')\n",
    "plt.grid(True, linestyle='--', alpha=0.6)\n",
    "plt.show()"
   ]
  },
  {
   "cell_type": "markdown",
   "id": "b96a5e69",
   "metadata": {},
   "source": [
    "### 6)"
   ]
  },
  {
   "cell_type": "markdown",
   "id": "175317bf",
   "metadata": {},
   "source": [
    "Linear Regression:\n",
    "\n",
    "- Assume que o preço de aluguel é uma combinação linear das features.\n",
    "\n",
    "- Simples, rápido, interpretável, mas incapaz de capturar padrões não lineares.\n",
    "\n",
    "MLP sem ativação (activation='identity')\n",
    "\n",
    "- Ainda é um modelo linear equivalente (uma composição de transformações lineares continua linear).\n",
    "\n",
    "- Portanto, é natural que o desempenho praticamente igual ao da regressão linear (como podemos ver: 1090.45 vs 1090.80).\n",
    "\n",
    "- Esse resultado confirma a teoria: sem função de ativação, uma rede neural não tem capacidade de representar relações não lineares.\n",
    "\n",
    "MLP com ReLU (activation='relu')\n",
    "\n",
    "- Elas permitem que a rede aprenda regiões do espaço de entrada com relações diferentes (por partes lineares), adaptando-se a padrões mais complexos entre variáveis como tamanho, localização, número de quartos etc.\n",
    "\n",
    "- O resultado mostra que essa flexibilidade trouxe redução média de erro (de ≈1090 para ≈1019 no MAE).\n",
    "→ Essa queda é estatisticamente relevante e confirma que a relação entre atributos e preço de aluguel não é puramente linear."
   ]
  },
  {
   "cell_type": "markdown",
   "id": "d40bbf21",
   "metadata": {},
   "source": [
    "Interpretação do Boxplot\n",
    "\n",
    "\n",
    "- A mediana do MAE da ReLU é mais baixa → melhor desempenho típico.\n",
    "\n",
    "- A caixa da ReLU é mais estreita → desempenho mais estável entre os folds.\n",
    "\n",
    "- A Linear e a MLP (identity) têm caixas e medianas praticamente idênticas, reforçando que são modelos equivalentes em capacidade."
   ]
  },
  {
   "cell_type": "markdown",
   "id": "0320dcdd",
   "metadata": {},
   "source": [
    "A regressão linear e a MLP sem ativação apresentam resultados praticamente idênticos porque ambas só conseguem modelar relações lineares entre as variáveis e o preço.\n",
    "A MLP com ReLU, por outro lado, introduz não linearidades que permitem aprender interações e efeitos complexos entre as features, o que se reflete em uma redução significativa do erro médio absoluto (≈6,5% menor).\n",
    "Portanto, as funções de ativação são fundamentais para que redes neurais capturem padrões não lineares e superem modelos lineares em tarefas de regressão complexas como previsão de preços de imóveis."
   ]
  },
  {
   "cell_type": "markdown",
   "id": "863fe5bc",
   "metadata": {},
   "source": [
    "### 7)"
   ]
  },
  {
   "cell_type": "markdown",
   "id": "fd00a65f",
   "metadata": {},
   "source": [
    "- Basicamente a ideia agora é de analisar o comportamento da função de perda(loss function) durante o treinamento, a fim de analisar criticamente se a MLP  com ReLu está com overfiting, underfiting ou se está generalizando bem"
   ]
  },
  {
   "cell_type": "markdown",
   "id": "6b5a264d",
   "metadata": {},
   "source": [
    "- Criamos duas listas para armazenar os pontos das curvas de , no qual a primeira vai representar os folds da parte de treino, já a outra vai representar os folds da parte de validação"
   ]
  },
  {
   "cell_type": "code",
   "execution_count": 7,
   "id": "14f3a427",
   "metadata": {},
   "outputs": [],
   "source": [
    "# Listas para armazenar as curvas de loss\n",
    "train_losses_folds = []\n",
    "val_losses_folds = []"
   ]
  },
  {
   "cell_type": "markdown",
   "id": "9b008000",
   "metadata": {},
   "source": [
    "- Aqui vou realizar a cross-validation apenas com ReLu agora que é o nosso alvo de interesse e armazenar a loss-function de cada um dos folds"
   ]
  },
  {
   "cell_type": "code",
   "execution_count": null,
   "id": "5168ef1f",
   "metadata": {},
   "outputs": [],
   "source": [
    "#cross-validation com Relu\n",
    "for train_index, val_index in kf.split(X):\n",
    "    X_train, X_val = X.iloc[train_index], X.iloc[val_index]\n",
    "    y_train, y_val = y.iloc[train_index], y.iloc[val_index]\n",
    "\n",
    "    # Padronizar dentro do fold\n",
    "    scaler = StandardScaler()\n",
    "    X_train = scaler.fit_transform(X_train)\n",
    "    X_val = scaler.transform(X_val)\n",
    "\n",
    "    #mlp com relu \n",
    "    mlp = MLPRegressor(\n",
    "        hidden_layer_sizes=(5, 5),\n",
    "        activation='relu',\n",
    "        max_iter=2000,\n",
    "        solver='adam',\n",
    "        random_state=42,\n",
    "        early_stopping=True,      #habilita validação interna\n",
    "        validation_fraction=0.2,  #vamos usar 20% do treino para validação\n",
    "        verbose=False\n",
    "    )\n",
    "\n",
    "    mlp.fit(X_train, y_train)\n",
    "\n",
    "    #pegando o valor de loss, que no sklearn fica no atributo loss_curve_\n",
    "    train_losses = mlp.loss_curve_\n",
    "    train_losses_folds.append(train_losses)\n",
    "\n",
    "    #no caso da validação, não temos a curva de loss diretamente,\n",
    "    #para isso registramos o score de validação do early_stopping_\n",
    "    if hasattr(mlp, 'validation_scores_'):\n",
    "        #convertendo score (R^2) em uma pseudo-loss (1 - score)\n",
    "        val_loss = [1 - s for s in mlp.validation_scores_]\n",
    "        val_losses_folds.append(val_loss)"
   ]
  },
  {
   "cell_type": "markdown",
   "id": "c41de43f",
   "metadata": {},
   "source": [
    "- Ajuste finos de normalização, visto que nem todos os folds têm exatamente o mesmo número de iterações, então alinhamos pelo mínimo\n",
    "- E por último, plotamos o resultado em um gráfico\n"
   ]
  },
  {
   "cell_type": "code",
   "execution_count": null,
   "id": "0f94a6de",
   "metadata": {},
   "outputs": [
    {
     "data": {
      "image/png": "[encoded data removed]",
      "text/plain": [
       "<Figure size 800x500 with 1 Axes>"
      ]
     },
     "metadata": {},
     "output_type": "display_data"
    }
   ],
   "source": [
    "#ajustar tamanhos das listas e calcular médias\n",
    "min_len = min([len(l) for l in train_losses_folds])\n",
    "train_losses_folds = [l[:min_len] for l in train_losses_folds]\n",
    "val_losses_folds = [l[:min_len] for l in val_losses_folds]\n",
    "\n",
    "mean_train_loss = np.mean(train_losses_folds, axis=0)\n",
    "mean_val_loss = np.mean(val_losses_folds, axis=0)\n",
    "\n",
    "# Normalizar curvas para comparar tendências (não magnitudes absolutas)\n",
    "train_norm = mean_train_loss / mean_train_loss[0]\n",
    "val_norm = mean_val_loss / mean_val_loss[0]\n",
    "\n",
    "#resultados \n",
    "plt.figure(figsize=(8,5))\n",
    "plt.plot(train_norm, label=\"Train Loss (normalizado)\", linewidth=2)\n",
    "plt.plot(val_norm, label=\"Validation Loss (normalizado)\", linewidth=2, linestyle='--')\n",
    "plt.xlabel(\"Iteração\")\n",
    "plt.ylabel(\"Loss normalizado\")\n",
    "plt.title(\"Curva média (normalizada) - MLP (ReLU) com Cross Validation\")\n",
    "plt.legend()\n",
    "plt.grid(True, linestyle='--', alpha=0.6)\n",
    "plt.show()"
   ]
  },
  {
   "cell_type": "markdown",
   "id": "ae1b980f",
   "metadata": {},
   "source": [
    "O gráfico traz duas curvas:\n",
    "\n",
    "- Train loss → erro (função de custo) no conjunto de treinamento a cada iteração.\n",
    "\n",
    "- Validation loss → erro médio no conjunto de validação (ou folds não usados no treino).\n",
    "\n",
    "Essas curvas revelam o comportamento do modelo durante o aprendizado."
   ]
  },
  {
   "cell_type": "markdown",
   "id": "e1bb3546",
   "metadata": {},
   "source": [
    "Padrões de comportamento p/ verificar se houve under, overfiting, ou uma boa generalização:\n",
    "- Ambas as curvas altas e pouco decrescentes, tanto treino e validação têm erros elevados, sem queda substancial, isso é sinal de underfitting — modelo incapaz de aprender padrões, o que pode ser explicado por uma rede pequena, poucos epochs, dados complexos\n",
    "- Train loss baixa, validation loss alta e crescente, ou seja o erro de treino cai, mas o de validação sobe depois de certo ponto, sinal de overfitting, ou seja, o modelo memoriza o treino, perde capacidade de generalizar\n",
    "- Train e validation loss decrescem juntas e se estabilizam próximas, portanto ambos convergem para valores baixos e próximos, o que é um sinal de que aconteceu uma boa generalização, logo, modelo aprende bem e mantém desempenho em dados não vistos"
   ]
  },
  {
   "cell_type": "markdown",
   "id": "08d48e5d",
   "metadata": {},
   "source": [
    "- Analisando as curvas médias de perdas de treinamento e validação para o MLP com ativação do ReLU nos cinco folds, ambas as curvas mostram uma diminuição suave e se estabilizam em valores comparáveis(≈0,95 treino e ≈0,45 validação). \n",
    "\n",
    "- Isso indica que o modelo aprende efetivamente os padrões de dados sem memorizar o conjunto de treinamento. A pequena diferença entre as perdas de treinamento e validação sugere uma boa generalização, em vez de overfiting ou underfiting. \n",
    "\n",
    "- A ativação do ReLU, ao introduzir não linearidades, permite que a rede capture relações complexas entre características da moradia e os preços de aluguel, mantendo um desempenho de validação estável."
   ]
  },
  {
   "cell_type": "markdown",
   "id": "884fbcad",
   "metadata": {},
   "source": [
    "## Pen-and-paper"
   ]
  },
  {
   "cell_type": "markdown",
   "id": "49220e15",
   "metadata": {},
   "source": [
    "Exercício 1: cálculos auxiliares para a aprendizagem da regressão linear utilizando a OLS closed-form solution"
   ]
  },
  {
   "cell_type": "code",
   "execution_count": null,
   "id": "cd55a6b3",
   "metadata": {},
   "outputs": [],
   "source": [
    "import numpy as np"
   ]
  },
  {
   "cell_type": "code",
   "execution_count": null,
   "id": "3080caf9",
   "metadata": {},
   "outputs": [],
   "source": [
    "X = np.array([\n",
    "    [1, 4],\n",
    "    [1, 1],\n",
    "    [1, 6],\n",
    "    [1, 18],\n",
    "    [1, 8]\n",
    "])\n",
    "\n",
    "y = np.array([3.5, 1.0, 3.8, 10.1, 8.5])"
   ]
  },
  {
   "cell_type": "code",
   "execution_count": null,
   "id": "98b0d4bb",
   "metadata": {},
   "outputs": [],
   "source": [
    "w1 = np.linalg.inv(X.T @ X) @ X.T @ y"
   ]
  },
  {
   "cell_type": "code",
   "execution_count": null,
   "id": "e13e8b92",
   "metadata": {},
   "outputs": [
    {
     "data": {
      "text/plain": [
       "array([1.46136, 0.52955])"
      ]
     },
     "metadata": {},
     "output_type": "display_data"
    }
   ],
   "source": [
    "np.round(w1, 5)"
   ]
  },
  {
   "cell_type": "markdown",
   "id": "01f72223",
   "metadata": {},
   "source": [
    "Exercício 2: cálculos auxiliares para regressão de Ridge"
   ]
  },
  {
   "cell_type": "code",
   "execution_count": null,
   "id": "d2c90268",
   "metadata": {},
   "outputs": [],
   "source": [
    "lamb = 1\n",
    "I = np.eye(X.shape[1]) ## matriz identidade com dimensões iguais ao número de colunas de X (i.e.: 2x2)\n",
    "I[0, 0] = 0 ## evitar penalizar o bias!"
   ]
  },
  {
   "cell_type": "code",
   "execution_count": null,
   "id": "3d69c188",
   "metadata": {},
   "outputs": [],
   "source": [
    "w2 = np.linalg.inv(X.T @ X + lamb * I) @ X.T @ y"
   ]
  },
  {
   "cell_type": "code",
   "execution_count": null,
   "id": "3fc0d79b",
   "metadata": {},
   "outputs": [
    {
     "data": {
      "text/plain": [
       "array([1.48466, 0.5264 ])"
      ]
     },
     "metadata": {},
     "output_type": "display_data"
    }
   ],
   "source": [
    "np.round(w2, 5)"
   ]
  },
  {
   "cell_type": "code",
   "execution_count": null,
   "id": "eca51f4b",
   "metadata": {},
   "outputs": [
    {
     "name": "stdout",
     "output_type": "stream",
     "text": [
      "Ridge w with lambda = 10: [1.68251 0.49966]\n",
      "Ridge w with lambda = 100: [2.92792 0.33136]\n"
     ]
    }
   ],
   "source": [
    "## Experimentando com valores de lambda mais elevados\n",
    "w2a = np.linalg.inv(X.T @ X + 10 * I) @ X.T @ y\n",
    "w2b = np.linalg.inv(X.T @ X + 100 * I) @ X.T @ y\n",
    "print(f\"Ridge w with lambda = 10: {np.round(w2a, 5)}\")\n",
    "print(f\"Ridge w with lambda = 100: {np.round(w2b, 5)}\")"
   ]
  },
  {
   "cell_type": "code",
   "execution_count": null,
   "id": "87a1d880",
   "metadata": {},
   "outputs": [],
   "source": [
    "phi = [4, 1, 6, 18, 8]\n",
    "ols = [1.46136, 0.52955]\n",
    "ridge1 = [1.48466, 0.52640]\n",
    "ridge10 = [1.68251, 0.49966]\n",
    "ridge100 = [2.92792, 0.33136]"
   ]
  },
  {
   "cell_type": "code",
   "execution_count": null,
   "id": "042cc634",
   "metadata": {},
   "outputs": [
    {
     "name": "stdout",
     "output_type": "stream",
     "text": [
      "ynum values predicted by:\n",
      "OLS: [3.57956, 1.99091, 4.63866, 10.99326, 5.69776]\n",
      "Ridge with lambda = 1: [3.59026, 2.01106, 4.64306, 10.959859999999999, 5.69586]\n",
      "Ridge with lambda = 10: [3.6811499999999997, 2.18217, 4.68047, 10.676390000000001, 5.67979]\n",
      "Ridge with lambda = 100: [4.25336, 3.25928, 4.91608, 8.8924, 5.578799999999999]\n"
     ]
    }
   ],
   "source": [
    "ols_ynum = [0 for _ in range(5)]\n",
    "ridge1_ynum = [0 for _ in range(5)]\n",
    "ridge10_ynum = [0 for _ in range(5)]\n",
    "ridge100_ynum = [0 for _ in range(5)]\n",
    "\n",
    "for i in range(5):\n",
    "    ols_ynum[i] = ols[0] + ols[1] * phi[i]\n",
    "    ridge1_ynum[i] = ridge1[0] + ridge1[1] * phi[i]\n",
    "    ridge10_ynum[i] = ridge10[0] + ridge10[1] * phi[i]\n",
    "    ridge100_ynum[i] = ridge100[0] + ridge100[1] * phi[i]\n",
    "\n",
    "print(\"ynum values predicted by:\")\n",
    "print(f\"OLS: {ols_ynum}\")\n",
    "print(f\"Ridge with lambda = 1: {ridge1_ynum}\")\n",
    "print(f\"Ridge with lambda = 10: {ridge10_ynum}\")\n",
    "print(f\"Ridge with lambda = 100: {ridge100_ynum}\")"
   ]
  },
  {
   "cell_type": "markdown",
   "id": "e95bbf55",
   "metadata": {},
   "source": [
    "Exercício 3: cálculo dos valores do Mean Absolute Error (MAE)"
   ]
  },
  {
   "cell_type": "code",
   "execution_count": null,
   "id": "b5bdce68",
   "metadata": {},
   "outputs": [],
   "source": [
    "def mae(real, pred):\n",
    "    if len(real) != len(pred):\n",
    "        raise ValueError(\"Os vetores de ynum devem ter o mesmo comprimento.\")\n",
    "    sum = 0\n",
    "    for i in range(len(real)):\n",
    "        sum += abs(real[i] - pred[i])\n",
    "    return sum/len(real)"
   ]
  },
  {
   "cell_type": "code",
   "execution_count": null,
   "id": "e994210e",
   "metadata": {},
   "outputs": [
    {
     "data": {
      "text/plain": [
       "1.120926"
      ]
     },
     "metadata": {},
     "output_type": "display_data"
    }
   ],
   "source": [
    "## Train MAE para OLS\n",
    "mae([3.5, 1.0, 3.8, 10.1, 8.5], [3.57956, 1.99091, 4.63866, 10.99326, 5.69776])"
   ]
  },
  {
   "cell_type": "code",
   "execution_count": null,
   "id": "caec1065",
   "metadata": {},
   "outputs": [
    {
     "data": {
      "text/plain": [
       "1.1216760000000001"
      ]
     },
     "metadata": {},
     "output_type": "display_data"
    }
   ],
   "source": [
    "## Train MAE para Ridge de lambda = 1\n",
    "mae([3.5, 1.0, 3.8, 10.1, 8.5], [3.59026, 2.01106, 4.64306, 10.959859999999999, 5.69586])"
   ]
  },
  {
   "cell_type": "code",
   "execution_count": null,
   "id": "4476e568",
   "metadata": {},
   "outputs": [
    {
     "data": {
      "text/plain": [
       "0.8621433333333332"
      ]
     },
     "metadata": {},
     "output_type": "display_data"
    }
   ],
   "source": [
    "## Test MAE para OLS\n",
    "mae([1, 6.2, 3.6], [1.46136, 7.81596, 4.10911])"
   ]
  },
  {
   "cell_type": "code",
   "execution_count": null,
   "id": "2950a5d1",
   "metadata": {},
   "outputs": [
    {
     "data": {
      "text/plain": [
       "0.8675933333333332"
      ]
     },
     "metadata": {},
     "output_type": "display_data"
    }
   ],
   "source": [
    "## Test MAE para Ridge\n",
    "mae([1, 6.2, 3.6], [1.48466, 7.80146, 4.11666])"
   ]
  },
  {
   "cell_type": "markdown",
   "id": "0320a4a2",
   "metadata": {},
   "source": [
    "Exercício 4: Multilayer perceptron"
   ]
  },
  {
   "cell_type": "code",
   "execution_count": null,
   "id": "81f5cdca",
   "metadata": {},
   "outputs": [
    {
     "data": {
      "text/plain": [
       "[0.6224593312018546, 0.6456563062257954, 0.6681877721681662]"
      ]
     },
     "metadata": {},
     "output_type": "display_data"
    }
   ],
   "source": [
    "## Cálculo dos valores após ativação sigmóide\n",
    "from math import exp\n",
    "def sigmoid(z):\n",
    "    return 1/(1+exp(-z))\n",
    "\n",
    "[sigmoid(0.5), sigmoid(0.6), sigmoid(0.7)]"
   ]
  },
  {
   "cell_type": "code",
   "execution_count": null,
   "id": "fef93d7c",
   "metadata": {},
   "outputs": [
    {
     "data": {
      "text/plain": [
       "array([4.25016, 3.58197, 2.93631])"
      ]
     },
     "metadata": {},
     "output_type": "display_data"
    }
   ],
   "source": [
    "## Cálculo do output layer, Z[2]\n",
    "\n",
    "W_2 = np.array([\n",
    "    [1, 2, 2],\n",
    "    [1, 2, 1],\n",
    "    [1, 1, 1]\n",
    "])\n",
    "A_1 = np.array([0.62246, 0.64566, 0.66819])\n",
    "b_2 = np.array([1, 1, 1])\n",
    "\n",
    "W_2 @ A_1 + b_2 ## Z[2]"
   ]
  },
  {
   "cell_type": "code",
   "execution_count": null,
   "id": "ae55cd42",
   "metadata": {},
   "outputs": [
    {
     "data": {
      "text/plain": [
       "[0.561350295023482, 0.2877681503643325, 0.1508815546121855]"
      ]
     },
     "metadata": {},
     "output_type": "display_data"
    }
   ],
   "source": [
    "## Cálculo do Z[2] após ativação softmax\n",
    "\n",
    "def softmax(Z):\n",
    "    activ = [0 for _ in range(len(Z))]\n",
    "    sum = 0\n",
    "    for i in range(len(Z)):\n",
    "        sum += exp(Z[i])\n",
    "    for i in range(len(Z)):\n",
    "        activ[i] = exp(Z[i])/sum\n",
    "    return activ\n",
    "\n",
    "softmax([4.25016, 3.58197, 2.93631])"
   ]
  },
  {
   "cell_type": "code",
   "execution_count": null,
   "id": "a106e8d6",
   "metadata": {},
   "outputs": [
    {
     "data": {
      "text/plain": [
       "array([[-0.27304208, -0.28321876, -0.29310154],\n",
       "       [ 0.17912531,  0.18580158,  0.19228504],\n",
       "       [ 0.09391676,  0.09741718,  0.10081651]])"
      ]
     },
     "metadata": {},
     "output_type": "display_data"
    }
   ],
   "source": [
    "## Cálculo do gradiente dos pesos\n",
    "\n",
    "delta_2 = np.array([-0.43865, 0.28777, 0.15088])\n",
    "A_1 = np.array([0.62246, 0.64566, 0.66819])\n",
    "\n",
    "np.outer(delta_2, A_1) ## W[2]grad"
   ]
  },
  {
   "cell_type": "code",
   "execution_count": null,
   "id": "852dedc9",
   "metadata": {},
   "outputs": [
    {
     "data": {
      "text/plain": [
       "[0.2350037122015945, 0.22878424045665732, 0.22171287329310904]"
      ]
     },
     "metadata": {},
     "output_type": "display_data"
    }
   ],
   "source": [
    "## Cálculo da derivada do sigmóide\n",
    "def sigmoid_deriv(z):\n",
    "    return sigmoid(z) * (1 - sigmoid(z))\n",
    "\n",
    "[sigmoid_deriv(0.5), sigmoid_deriv(0.6), sigmoid_deriv(0.7)]"
   ]
  },
  {
   "cell_type": "code",
   "execution_count": null,
   "id": "70584a17",
   "metadata": {},
   "outputs": [
    {
     "data": {
      "text/plain": [
       "array([[1.13652104, 2.14160938, 2.14655077],\n",
       "       [0.91043734, 1.90709921, 0.90385748],\n",
       "       [0.95304162, 0.95129141, 0.94959174]])"
      ]
     },
     "metadata": {},
     "output_type": "display_data"
    }
   ],
   "source": [
    "## Pesos atualizados do output layer (W[2])\n",
    "\n",
    "W_2 = np.array([\n",
    "    [1, 2, 2],\n",
    "    [1, 2, 1],\n",
    "    [1, 1, 1]\n",
    "])\n",
    "eta = 0.5\n",
    "W_2_grad = np.array([\n",
    "    [-0.27304208, -0.28321876, -0.29310154],\n",
    "    [ 0.17912531,  0.18580158,  0.19228504],\n",
    "    [ 0.09391676,  0.09741718,  0.10081651]\n",
    "])\n",
    "\n",
    "W_2 - eta * W_2_grad"
   ]
  },
  {
   "cell_type": "code",
   "execution_count": null,
   "id": "952513bf",
   "metadata": {},
   "outputs": [
    {
     "data": {
      "text/plain": [
       "array([1.219325, 0.856115, 0.92456 ])"
      ]
     },
     "metadata": {},
     "output_type": "display_data"
    }
   ],
   "source": [
    "## Biases atualizados do output layer (b[2])\n",
    "\n",
    "b_2 = np.array([1, 1, 1])\n",
    "eta = 0.5\n",
    "b_2_grad = np.array([-0.43865, 0.28777, 0.15088])\n",
    "\n",
    "b_2 - eta * b_2_grad"
   ]
  },
  {
   "cell_type": "code",
   "execution_count": null,
   "id": "96bbdce7",
   "metadata": {},
   "outputs": [
    {
     "data": {
      "text/plain": [
       "array([[0.1    , 0.1    ],\n",
       "       [0.13452, 0.23452],\n",
       "       [0.29725, 0.19725]])"
      ]
     },
     "metadata": {},
     "output_type": "display_data"
    }
   ],
   "source": [
    "## Pesos atualizados do hidden layer (W[1])\n",
    "\n",
    "W_1 = np.array([\n",
    "    [0.1, 0.1],\n",
    "    [0.1, 0.2],\n",
    "    [0.2, 0.1]\n",
    "])\n",
    "eta = 0.5\n",
    "W_1_grad = np.array([\n",
    "    [0, 0],\n",
    "    [-0.06904, -0.06904],\n",
    "    [-0.19450, -0.19450]\n",
    "])\n",
    "\n",
    "W_1 - eta * W_1_grad"
   ]
  },
  {
   "cell_type": "code",
   "execution_count": null,
   "id": "e54e119a",
   "metadata": {},
   "outputs": [
    {
     "data": {
      "text/plain": [
       "array([0.1     , 0.01726 , 0.148625])"
      ]
     },
     "metadata": {},
     "output_type": "display_data"
    }
   ],
   "source": [
    "## Biases atualizados do hidden layer (b[1])\n",
    "\n",
    "b_1 = np.array([0.1, 0, 0.1])\n",
    "eta = 0.5\n",
    "b_1_grad = np.array([0, -0.03452, -0.09725])\n",
    "\n",
    "b_1 - eta * b_1_grad"
   ]
  }
 ],
 "metadata": {
  "kernelspec": {
   "display_name": "Python 3",
   "language": "python",
   "name": "python3"
  },
  "language_info": {
   "codemirror_mode": {
    "name": "ipython",
    "version": 3
   },
   "file_extension": ".py",
   "mimetype": "text/x-python",
   "name": "python",
   "nbconvert_exporter": "python",
   "pygments_lexer": "ipython3",
   "version": "3.12.3"
  }
 },
 "nbformat": 4,
 "nbformat_minor": 5
}
