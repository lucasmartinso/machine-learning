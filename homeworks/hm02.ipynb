{
 "cells": [
  {
   "cell_type": "markdown",
   "id": "d9a7fe3a",
   "metadata": {},
   "source": [
    "### Bibliotecas Utilizadas"
   ]
  },
  {
   "cell_type": "code",
   "execution_count": 15,
   "id": "ce8db40c",
   "metadata": {},
   "outputs": [],
   "source": [
    "import pandas as pd \n",
    "import numpy as np\n",
    "import matplotlib.pyplot as plt\n",
    "from sklearn.model_selection import StratifiedKFold, cross_val_score, train_test_split\n",
    "from sklearn.preprocessing import StandardScaler, LabelEncoder\n",
    "from sklearn.neighbors import KNeighborsClassifier\n",
    "from sklearn.naive_bayes import GaussianNB\n",
    "from sklearn.pipeline import Pipeline\n",
    "from sklearn.preprocessing import MinMaxScaler\n",
    "from sklearn.metrics import accuracy_score\n",
    "from scipy.stats import ttest_rel"
   ]
  },
  {
   "cell_type": "markdown",
   "id": "3ac50f9e",
   "metadata": {},
   "source": [
    "- Carregando o dataset e transformando-o em dataframe via lib pandas"
   ]
  },
  {
   "cell_type": "code",
   "execution_count": 16,
   "id": "afa9657c",
   "metadata": {},
   "outputs": [
    {
     "data": {
      "application/vnd.microsoft.datawrangler.viewer.v0+json": {
       "columns": [
        {
         "name": "index",
         "rawType": "int64",
         "type": "integer"
        },
        {
         "name": "id",
         "rawType": "int64",
         "type": "integer"
        },
        {
         "name": "diagnosis",
         "rawType": "object",
         "type": "string"
        },
        {
         "name": "radius_mean",
         "rawType": "float64",
         "type": "float"
        },
        {
         "name": "texture_mean",
         "rawType": "float64",
         "type": "float"
        },
        {
         "name": "perimeter_mean",
         "rawType": "float64",
         "type": "float"
        },
        {
         "name": "area_mean",
         "rawType": "float64",
         "type": "float"
        },
        {
         "name": "smoothness_mean",
         "rawType": "float64",
         "type": "float"
        },
        {
         "name": "compactness_mean",
         "rawType": "float64",
         "type": "float"
        },
        {
         "name": "concavity_mean",
         "rawType": "float64",
         "type": "float"
        },
        {
         "name": "concave points_mean",
         "rawType": "float64",
         "type": "float"
        },
        {
         "name": "symmetry_mean",
         "rawType": "float64",
         "type": "float"
        },
        {
         "name": "fractal_dimension_mean",
         "rawType": "float64",
         "type": "float"
        },
        {
         "name": "radius_se",
         "rawType": "float64",
         "type": "float"
        },
        {
         "name": "texture_se",
         "rawType": "float64",
         "type": "float"
        },
        {
         "name": "perimeter_se",
         "rawType": "float64",
         "type": "float"
        },
        {
         "name": "area_se",
         "rawType": "float64",
         "type": "float"
        },
        {
         "name": "smoothness_se",
         "rawType": "float64",
         "type": "float"
        },
        {
         "name": "compactness_se",
         "rawType": "float64",
         "type": "float"
        },
        {
         "name": "concavity_se",
         "rawType": "float64",
         "type": "float"
        },
        {
         "name": "concave points_se",
         "rawType": "float64",
         "type": "float"
        },
        {
         "name": "symmetry_se",
         "rawType": "float64",
         "type": "float"
        },
        {
         "name": "fractal_dimension_se",
         "rawType": "float64",
         "type": "float"
        },
        {
         "name": "radius_worst",
         "rawType": "float64",
         "type": "float"
        },
        {
         "name": "texture_worst",
         "rawType": "float64",
         "type": "float"
        },
        {
         "name": "perimeter_worst",
         "rawType": "float64",
         "type": "float"
        },
        {
         "name": "area_worst",
         "rawType": "float64",
         "type": "float"
        },
        {
         "name": "smoothness_worst",
         "rawType": "float64",
         "type": "float"
        },
        {
         "name": "compactness_worst",
         "rawType": "float64",
         "type": "float"
        },
        {
         "name": "concavity_worst",
         "rawType": "float64",
         "type": "float"
        },
        {
         "name": "concave points_worst",
         "rawType": "float64",
         "type": "float"
        },
        {
         "name": "symmetry_worst",
         "rawType": "float64",
         "type": "float"
        },
        {
         "name": "fractal_dimension_worst",
         "rawType": "float64",
         "type": "float"
        }
       ],
       "ref": "d1a00b6b-7e24-410a-ba52-b534f4b66917",
       "rows": [
        [
         "0",
         "842302",
         "M",
         "17.99",
         "10.38",
         "122.8",
         "1001.0",
         "0.1184",
         "0.2776",
         "0.3001",
         "0.1471",
         "0.2419",
         "0.07871",
         "1.095",
         "0.9053",
         "8.589",
         "153.4",
         "0.006399",
         "0.04904",
         "0.05373",
         "0.01587",
         "0.03003",
         "0.006193",
         "25.38",
         "17.33",
         "184.6",
         "2019.0",
         "0.1622",
         "0.6656",
         "0.7119",
         "0.2654",
         "0.4601",
         "0.1189"
        ],
        [
         "1",
         "842517",
         "M",
         "20.57",
         "17.77",
         "132.9",
         "1326.0",
         "0.08474",
         "0.07864",
         "0.0869",
         "0.07017",
         "0.1812",
         "0.05667",
         "0.5435",
         "0.7339",
         "3.398",
         "74.08",
         "0.005225",
         "0.01308",
         "0.0186",
         "0.0134",
         "0.01389",
         "0.003532",
         "24.99",
         "23.41",
         "158.8",
         "1956.0",
         "0.1238",
         "0.1866",
         "0.2416",
         "0.186",
         "0.275",
         "0.08902"
        ],
        [
         "2",
         "84300903",
         "M",
         "19.69",
         "21.25",
         "130.0",
         "1203.0",
         "0.1096",
         "0.1599",
         "0.1974",
         "0.1279",
         "0.2069",
         "0.05999",
         "0.7456",
         "0.7869",
         "4.585",
         "94.03",
         "0.00615",
         "0.04006",
         "0.03832",
         "0.02058",
         "0.0225",
         "0.004571",
         "23.57",
         "25.53",
         "152.5",
         "1709.0",
         "0.1444",
         "0.4245",
         "0.4504",
         "0.243",
         "0.3613",
         "0.08758"
        ],
        [
         "3",
         "84348301",
         "M",
         "11.42",
         "20.38",
         "77.58",
         "386.1",
         "0.1425",
         "0.2839",
         "0.2414",
         "0.1052",
         "0.2597",
         "0.09744",
         "0.4956",
         "1.156",
         "3.445",
         "27.23",
         "0.00911",
         "0.07458",
         "0.05661",
         "0.01867",
         "0.05963",
         "0.009208",
         "14.91",
         "26.5",
         "98.87",
         "567.7",
         "0.2098",
         "0.8663",
         "0.6869",
         "0.2575",
         "0.6638",
         "0.173"
        ],
        [
         "4",
         "84358402",
         "M",
         "20.29",
         "14.34",
         "135.1",
         "1297.0",
         "0.1003",
         "0.1328",
         "0.198",
         "0.1043",
         "0.1809",
         "0.05883",
         "0.7572",
         "0.7813",
         "5.438",
         "94.44",
         "0.01149",
         "0.02461",
         "0.05688",
         "0.01885",
         "0.01756",
         "0.005115",
         "22.54",
         "16.67",
         "152.2",
         "1575.0",
         "0.1374",
         "0.205",
         "0.4",
         "0.1625",
         "0.2364",
         "0.07678"
        ]
       ],
       "shape": {
        "columns": 32,
        "rows": 5
       }
      },
      "text/html": [
       "<div>\n",
       "<style scoped>\n",
       "    .dataframe tbody tr th:only-of-type {\n",
       "        vertical-align: middle;\n",
       "    }\n",
       "\n",
       "    .dataframe tbody tr th {\n",
       "        vertical-align: top;\n",
       "    }\n",
       "\n",
       "    .dataframe thead th {\n",
       "        text-align: right;\n",
       "    }\n",
       "</style>\n",
       "<table border=\"1\" class=\"dataframe\">\n",
       "  <thead>\n",
       "    <tr style=\"text-align: right;\">\n",
       "      <th></th>\n",
       "      <th>id</th>\n",
       "      <th>diagnosis</th>\n",
       "      <th>radius_mean</th>\n",
       "      <th>texture_mean</th>\n",
       "      <th>perimeter_mean</th>\n",
       "      <th>area_mean</th>\n",
       "      <th>smoothness_mean</th>\n",
       "      <th>compactness_mean</th>\n",
       "      <th>concavity_mean</th>\n",
       "      <th>concave points_mean</th>\n",
       "      <th>...</th>\n",
       "      <th>radius_worst</th>\n",
       "      <th>texture_worst</th>\n",
       "      <th>perimeter_worst</th>\n",
       "      <th>area_worst</th>\n",
       "      <th>smoothness_worst</th>\n",
       "      <th>compactness_worst</th>\n",
       "      <th>concavity_worst</th>\n",
       "      <th>concave points_worst</th>\n",
       "      <th>symmetry_worst</th>\n",
       "      <th>fractal_dimension_worst</th>\n",
       "    </tr>\n",
       "  </thead>\n",
       "  <tbody>\n",
       "    <tr>\n",
       "      <th>0</th>\n",
       "      <td>842302</td>\n",
       "      <td>M</td>\n",
       "      <td>17.99</td>\n",
       "      <td>10.38</td>\n",
       "      <td>122.80</td>\n",
       "      <td>1001.0</td>\n",
       "      <td>0.11840</td>\n",
       "      <td>0.27760</td>\n",
       "      <td>0.3001</td>\n",
       "      <td>0.14710</td>\n",
       "      <td>...</td>\n",
       "      <td>25.38</td>\n",
       "      <td>17.33</td>\n",
       "      <td>184.60</td>\n",
       "      <td>2019.0</td>\n",
       "      <td>0.1622</td>\n",
       "      <td>0.6656</td>\n",
       "      <td>0.7119</td>\n",
       "      <td>0.2654</td>\n",
       "      <td>0.4601</td>\n",
       "      <td>0.11890</td>\n",
       "    </tr>\n",
       "    <tr>\n",
       "      <th>1</th>\n",
       "      <td>842517</td>\n",
       "      <td>M</td>\n",
       "      <td>20.57</td>\n",
       "      <td>17.77</td>\n",
       "      <td>132.90</td>\n",
       "      <td>1326.0</td>\n",
       "      <td>0.08474</td>\n",
       "      <td>0.07864</td>\n",
       "      <td>0.0869</td>\n",
       "      <td>0.07017</td>\n",
       "      <td>...</td>\n",
       "      <td>24.99</td>\n",
       "      <td>23.41</td>\n",
       "      <td>158.80</td>\n",
       "      <td>1956.0</td>\n",
       "      <td>0.1238</td>\n",
       "      <td>0.1866</td>\n",
       "      <td>0.2416</td>\n",
       "      <td>0.1860</td>\n",
       "      <td>0.2750</td>\n",
       "      <td>0.08902</td>\n",
       "    </tr>\n",
       "    <tr>\n",
       "      <th>2</th>\n",
       "      <td>84300903</td>\n",
       "      <td>M</td>\n",
       "      <td>19.69</td>\n",
       "      <td>21.25</td>\n",
       "      <td>130.00</td>\n",
       "      <td>1203.0</td>\n",
       "      <td>0.10960</td>\n",
       "      <td>0.15990</td>\n",
       "      <td>0.1974</td>\n",
       "      <td>0.12790</td>\n",
       "      <td>...</td>\n",
       "      <td>23.57</td>\n",
       "      <td>25.53</td>\n",
       "      <td>152.50</td>\n",
       "      <td>1709.0</td>\n",
       "      <td>0.1444</td>\n",
       "      <td>0.4245</td>\n",
       "      <td>0.4504</td>\n",
       "      <td>0.2430</td>\n",
       "      <td>0.3613</td>\n",
       "      <td>0.08758</td>\n",
       "    </tr>\n",
       "    <tr>\n",
       "      <th>3</th>\n",
       "      <td>84348301</td>\n",
       "      <td>M</td>\n",
       "      <td>11.42</td>\n",
       "      <td>20.38</td>\n",
       "      <td>77.58</td>\n",
       "      <td>386.1</td>\n",
       "      <td>0.14250</td>\n",
       "      <td>0.28390</td>\n",
       "      <td>0.2414</td>\n",
       "      <td>0.10520</td>\n",
       "      <td>...</td>\n",
       "      <td>14.91</td>\n",
       "      <td>26.50</td>\n",
       "      <td>98.87</td>\n",
       "      <td>567.7</td>\n",
       "      <td>0.2098</td>\n",
       "      <td>0.8663</td>\n",
       "      <td>0.6869</td>\n",
       "      <td>0.2575</td>\n",
       "      <td>0.6638</td>\n",
       "      <td>0.17300</td>\n",
       "    </tr>\n",
       "    <tr>\n",
       "      <th>4</th>\n",
       "      <td>84358402</td>\n",
       "      <td>M</td>\n",
       "      <td>20.29</td>\n",
       "      <td>14.34</td>\n",
       "      <td>135.10</td>\n",
       "      <td>1297.0</td>\n",
       "      <td>0.10030</td>\n",
       "      <td>0.13280</td>\n",
       "      <td>0.1980</td>\n",
       "      <td>0.10430</td>\n",
       "      <td>...</td>\n",
       "      <td>22.54</td>\n",
       "      <td>16.67</td>\n",
       "      <td>152.20</td>\n",
       "      <td>1575.0</td>\n",
       "      <td>0.1374</td>\n",
       "      <td>0.2050</td>\n",
       "      <td>0.4000</td>\n",
       "      <td>0.1625</td>\n",
       "      <td>0.2364</td>\n",
       "      <td>0.07678</td>\n",
       "    </tr>\n",
       "  </tbody>\n",
       "</table>\n",
       "<p>5 rows × 32 columns</p>\n",
       "</div>"
      ],
      "text/plain": [
       "         id diagnosis  radius_mean  texture_mean  perimeter_mean  area_mean  \\\n",
       "0    842302         M        17.99         10.38          122.80     1001.0   \n",
       "1    842517         M        20.57         17.77          132.90     1326.0   \n",
       "2  84300903         M        19.69         21.25          130.00     1203.0   \n",
       "3  84348301         M        11.42         20.38           77.58      386.1   \n",
       "4  84358402         M        20.29         14.34          135.10     1297.0   \n",
       "\n",
       "   smoothness_mean  compactness_mean  concavity_mean  concave points_mean  \\\n",
       "0          0.11840           0.27760          0.3001              0.14710   \n",
       "1          0.08474           0.07864          0.0869              0.07017   \n",
       "2          0.10960           0.15990          0.1974              0.12790   \n",
       "3          0.14250           0.28390          0.2414              0.10520   \n",
       "4          0.10030           0.13280          0.1980              0.10430   \n",
       "\n",
       "   ...  radius_worst  texture_worst  perimeter_worst  area_worst  \\\n",
       "0  ...         25.38          17.33           184.60      2019.0   \n",
       "1  ...         24.99          23.41           158.80      1956.0   \n",
       "2  ...         23.57          25.53           152.50      1709.0   \n",
       "3  ...         14.91          26.50            98.87       567.7   \n",
       "4  ...         22.54          16.67           152.20      1575.0   \n",
       "\n",
       "   smoothness_worst  compactness_worst  concavity_worst  concave points_worst  \\\n",
       "0            0.1622             0.6656           0.7119                0.2654   \n",
       "1            0.1238             0.1866           0.2416                0.1860   \n",
       "2            0.1444             0.4245           0.4504                0.2430   \n",
       "3            0.2098             0.8663           0.6869                0.2575   \n",
       "4            0.1374             0.2050           0.4000                0.1625   \n",
       "\n",
       "   symmetry_worst  fractal_dimension_worst  \n",
       "0          0.4601                  0.11890  \n",
       "1          0.2750                  0.08902  \n",
       "2          0.3613                  0.08758  \n",
       "3          0.6638                  0.17300  \n",
       "4          0.2364                  0.07678  \n",
       "\n",
       "[5 rows x 32 columns]"
      ]
     },
     "execution_count": 16,
     "metadata": {},
     "output_type": "execute_result"
    }
   ],
   "source": [
    "df_breast = pd.read_csv('Breast_cancer_dataset.csv', sep=',', index_col=False)\n",
    "df_breast.drop(columns=['Unnamed: 32'], inplace=True)\n",
    "df_breast.head()"
   ]
  },
  {
   "cell_type": "markdown",
   "id": "565cb2e6",
   "metadata": {},
   "source": [
    "Análise do dataset: \n",
    "- Somente a coluna diagnosis é composta por valores categóricos discretos\n",
    "- As demais colunas representam variáveis númericas contínuas"
   ]
  },
  {
   "cell_type": "markdown",
   "id": "bfd9d077",
   "metadata": {},
   "source": [
    "### 1)"
   ]
  },
  {
   "cell_type": "markdown",
   "id": "575a0115",
   "metadata": {},
   "source": [
    "- Inicialmente vamos usar 5-fold stratified cross-validation, que tem como ideia garantir a proporção entre as classes \"M/F\" em cada um dos folds\n",
    "- Shuffling, basicamente vai promover o embaralhamento pré divisão, assim como em jogos de carta, por exemplo "
   ]
  },
  {
   "cell_type": "markdown",
   "id": "fc1dda6b",
   "metadata": {},
   "source": [
    "Vamos comparar a performace entre kNN com k=5 e Naive Bayes levando em conta Gaussian assumption, para isso: \n",
    "- Separamos as features do outcome\n",
    "- Codificamos o target, no qual invés de ser uma variável categórica discreta, vai passar a ser uma binária, sendo M -> 1 e F -> 0, isso vai facilitar o treinamento dos modelos "
   ]
  },
  {
   "cell_type": "code",
   "execution_count": 17,
   "id": "f215277f",
   "metadata": {},
   "outputs": [],
   "source": [
    "#separando outcome e features, e id não é uma informação relevante, por isso excluimos\n",
    "X = df_breast.drop(columns=['id', 'diagnosis'])\n",
    "y = df_breast['diagnosis']\n",
    "\n",
    "#codificando o target (M -> 1 e F -> 0)\n",
    "le = LabelEncoder()\n",
    "y_encoded = le.fit_transform(y)"
   ]
  },
  {
   "cell_type": "markdown",
   "id": "40065069",
   "metadata": {},
   "source": [
    "#### a)"
   ]
  },
  {
   "cell_type": "markdown",
   "id": "9ac062bd",
   "metadata": {},
   "source": [
    "Primeiro vamos computar as acurácias de cada um dos modelos propostos, e assim definimos uma Pipeline a ser seguida:\n",
    "\n",
    "1) Normalizamos os dados, no qual pelo fato do kNN ser sensível a escala usamos o StandardScaler\n",
    "\n",
    "2) Aplicamos StratifiedKFold com shuffle \n",
    "\n",
    "3) Treinamos e avaliamos cada um dos modelos"
   ]
  },
  {
   "cell_type": "code",
   "execution_count": null,
   "id": "eae93caf",
   "metadata": {},
   "outputs": [
    {
     "name": "stdout",
     "output_type": "stream",
     "text": [
      "=== kNN (k=5) ===\n",
      "Acurácias: [0.92982456 0.90350877 0.92982456 0.95614035 0.95575221]\n",
      "Média: 0.9350 | Desvio padrão: 0.0196\n",
      "\n",
      "=== Naive Bayes Gaussiano ===\n",
      "Acurácias: [0.96491228 0.90350877 0.92982456 0.92982456 0.96460177]\n",
      "Média: 0.9385 | Desvio padrão: 0.0235\n",
      "\n",
      "O kNN é mais estável (menor variação entre folds).\n"
     ]
    }
   ],
   "source": [
    "#cross-validation estratificada (com shuffle) k=5\n",
    "cv = StratifiedKFold(n_splits=5, shuffle=True, random_state=42)\n",
    "\n",
    "#pipelines para kNN e Naive Bayes\n",
    "pipeline_knn = Pipeline([\n",
    "    ('knn', KNeighborsClassifier(n_neighbors=5))\n",
    "])\n",
    "\n",
    "pipeline_nb = Pipeline([\n",
    "    ('nb', GaussianNB())\n",
    "])\n",
    "\n",
    "#avaliação dos modelos\n",
    "scores_knn = cross_val_score(pipeline_knn, X, y_encoded, cv=cv, scoring='accuracy')\n",
    "scores_nb = cross_val_score(pipeline_nb, X, y_encoded, cv=cv, scoring='accuracy')\n",
    "\n",
    "#printar os results\n",
    "print(\"=== kNN (k=5) ===\")\n",
    "print(f\"Acurácias: {scores_knn}\")\n",
    "print(f\"Média: {scores_knn.mean():.4f} | Desvio padrão: {scores_knn.std():.4f}\\n\")\n",
    "\n",
    "print(\"=== Naive Bayes Gaussiano ===\")\n",
    "print(f\"Acurácias: {scores_nb}\")\n",
    "print(f\"Média: {scores_nb.mean():.4f} | Desvio padrão: {scores_nb.std():.4f}\")\n",
    "\n",
    "#estabilidade\n",
    "if scores_knn.std() < scores_nb.std():\n",
    "    print(\"\\nO kNN é mais estável (menor variação entre folds).\")\n",
    "else:\n",
    "    print(\"\\nO Naive Bayes é mais estável (menor variação entre folds).\")"
   ]
  },
  {
   "cell_type": "markdown",
   "id": "44ddfb70",
   "metadata": {},
   "source": [
    "- Conseguimos observar que o kNN é o mais estável, já que o desvio padrão dele é menor 0.0196 < 0.0235 do que o de Naive Bayes, no qual basicamente o desvio padrão é uma das principais para observarmos o grau de dispersão ou variação de um conjunto de dados, em que quanto menor é esta, menor foi a variação, consequentemente mais estável é este modelo "
   ]
  },
  {
   "cell_type": "markdown",
   "id": "6e9acda7",
   "metadata": {},
   "source": [
    "#### b)"
   ]
  },
  {
   "cell_type": "markdown",
   "id": "2cf77cb2",
   "metadata": {},
   "source": [
    "- Basicamente a ideia aqui é treinar novamente o modelo kNN com k=5, mas realizando um pré-processamento usando Min-Max scaler\n",
    "- Em que o Min-Max transforma os dados para intervalos de [0,1], em que neste dataset várias variáveis já seguem essa distribuição, muitas ainda não\n",
    "- A ideia fazendo isso é que o kNN possa usar distâncias euclidianas entre pontos, em que quando esse processo não era feito as features que tinham maior valor \"dominavam\" e assim \"contribuiam\" mais, agora usando o min-max com essa normalização a ideia é que as features contribuam de forma mais equilibrada\n",
    "- Gaussian não vai sofrer muito impacto quanto isso pelo fato de trabalhar com probabilidades normalizadas da distribuição gaussiana, em que basicamente isso irá mudar somente a escala, mas a distribuição segue a tendência de se manter a mesma, então as probabilidades devem se manter as mesmas ou muito similiares"
   ]
  },
  {
   "cell_type": "code",
   "execution_count": 19,
   "id": "a867093f",
   "metadata": {},
   "outputs": [
    {
     "name": "stdout",
     "output_type": "stream",
     "text": [
      "=== kNN (k=5) com MinMaxScaler ===\n",
      "Acurácias: [0.98245614 0.95614035 0.92982456 0.98245614 0.96460177]\n",
      "Média: 0.9631 | Desvio padrão: 0.0195\n",
      "\n",
      "\n",
      "Comparação com kNN sem escalonamento:\n",
      "Melhoria absoluta: 0.0281\n",
      "Melhoria percentual: 3.00%\n",
      "\n",
      "Comparação de estabilidade:\n",
      "Desvio padrão (sem scaler): 0.0196\n",
      "Desvio padrão (com scaler): 0.0195\n",
      "Redução na variância: 0.0001\n",
      "\n",
      " \n",
      "=== Naive Bayes Gaussiano (comparação) ===\n",
      "Acurácias: [0.95614035 0.9122807  0.92982456 0.90350877 0.94690265]\n",
      "Média: 0.9297 | Desvio padrão: 0.0199\n",
      "\n"
     ]
    }
   ],
   "source": [
    "pipeline_knn_minmax = Pipeline([\n",
    "    ('scaler', MinMaxScaler()),\n",
    "    ('knn', KNeighborsClassifier(n_neighbors=5))\n",
    "])\n",
    "\n",
    "scores_knn_minmax = cross_val_score(pipeline_knn_minmax, X, y_encoded, cv=cv, scoring='accuracy')\n",
    "\n",
    "pipeline_nb = Pipeline([\n",
    "    ('scaler', MinMaxScaler()), \n",
    "    ('nb', GaussianNB())\n",
    "])\n",
    "scores_nb = cross_val_score(pipeline_nb, X, y_encoded, cv=cv, scoring='accuracy')\n",
    "\n",
    "print(\"=== kNN (k=5) com MinMaxScaler ===\")\n",
    "print(f\"Acurácias: {scores_knn_minmax}\")\n",
    "print(f\"Média: {scores_knn_minmax.mean():.4f} | Desvio padrão: {scores_knn_minmax.std():.4f}\\n\")\n",
    "\n",
    "print(\"\\nComparação com kNN sem escalonamento:\")\n",
    "print(f\"Melhoria absoluta: {(scores_knn_minmax.mean() - scores_knn.mean()):.4f}\")\n",
    "print(f\"Melhoria percentual: {((scores_knn_minmax.mean() - scores_knn.mean()) / scores_knn.mean() * 100):.2f}%\")\n",
    "\n",
    "print(\"\\nComparação de estabilidade:\")\n",
    "print(f\"Desvio padrão (sem scaler): {scores_knn.std():.4f}\")\n",
    "print(f\"Desvio padrão (com scaler): {scores_knn_minmax.std():.4f}\")\n",
    "print(f\"Redução na variância: {(scores_knn.std() - scores_knn_minmax.std()):.4f}\")\n",
    "\n",
    "print(\"\\n \\n=== Naive Bayes Gaussiano (comparação) ===\")\n",
    "print(f\"Acurácias: {scores_nb}\")\n",
    "print(f\"Média: {scores_nb.mean():.4f} | Desvio padrão: {scores_nb.std():.4f}\\n\")"
   ]
  },
  {
   "cell_type": "markdown",
   "id": "74b5a65a",
   "metadata": {},
   "source": [
    "#### c)"
   ]
  },
  {
   "cell_type": "markdown",
   "id": "cdc15f4b",
   "metadata": {},
   "source": [
    "- Por último vamos verificar estatisticamente a comparação entre kNN e Gaussian \n",
    "- Assim aplicamos o t-test do scipy, e construimos duas hipóteses(nula e alternativa): \n",
    "\n",
    "1) ${H_0}$ : ${u_{knn}} = {u_{nvb}}$ -> nula, que a diferença estatísca entre kNN e Gaussian Navie Bayes não é significativa\n",
    "2) ${H_1}$ : ${u_{knn}} > {u_{nvb}}$ -> alterantiva, que o kNN é estatiscamente superior a Gaussian Navie Bayes"
   ]
  },
  {
   "cell_type": "code",
   "execution_count": 20,
   "id": "b7d0e2ef",
   "metadata": {},
   "outputs": [
    {
     "name": "stdout",
     "output_type": "stream",
     "text": [
      "=== Teste t pareado ===\n",
      "T-statistic: 2.4881 | p-value: 0.0676\n",
      "Resultado: não há evidência estatística de superioridade (p >= 0.05).\n"
     ]
    }
   ],
   "source": [
    "t_stat, p_value = ttest_rel(scores_knn_minmax, scores_nb)\n",
    "print(\"=== Teste t pareado ===\")\n",
    "print(f\"T-statistic: {t_stat:.4f} | p-value: {p_value:.4f}\")\n",
    "\n",
    "if p_value < 0.05 and scores_knn_minmax.mean() > scores_nb.mean():\n",
    "    print(\"Resultado: o kNN com MinMaxScaler é estatisticamente superior ao Naive Bayes (p < 0.05).\")\n",
    "else:\n",
    "    print(\"Resultado: não há evidência estatística de superioridade (p >= 0.05).\")"
   ]
  },
  {
   "cell_type": "markdown",
   "id": "08cac29c",
   "metadata": {},
   "source": [
    "- Basicamente aplicamos o t-test com as acurácias médias de cada fold, e assim as comparamos(kNN x Naive Bayes)\n",
    "- O p-value > 0.05, neste caso p=0.0676, indica que a diferença entre os modelos é estatiscamente significante ao nível de confiança de 93% aproximadamente\n",
    "- Portanto rejeitamos ${H_1}$ e aceitamos ${H_0}$, de que a diferença estatística entre kNN e Naive Bayes não pe estatiscamente significativa, apesar da diferença entre as acurácias 0.9631(kNN) x 0.9297(Gaussian Naive Bayes)\n",
    "- Apesar disso, o kNN é fortemente dependente da escala das variáveis, pois utiliza normalmente distâncias euclidianas, em que ao normaliza-las a tendência é que o poder discriminativo do modelo melhore\n",
    "- E o modelo Naive Bayes Gaussiano é um modelo probabilístico paramétrico, baseado que cada feature segue a distribuição normal independente, em que normalizações como Min-Max não tendem a alterar o poder discrimininativo deste modelo"
   ]
  },
  {
   "cell_type": "markdown",
   "id": "ec49af53",
   "metadata": {},
   "source": [
    "### 2)"
   ]
  },
  {
   "cell_type": "markdown",
   "id": "cd6bd8af",
   "metadata": {},
   "source": [
    "#### a)"
   ]
  },
  {
   "cell_type": "markdown",
   "id": "dbee1f53",
   "metadata": {},
   "source": [
    "- Basicamente vamos dividir o dataset em treino/teste (70/30), e treinar kNN com diferentes k's k = {1,5,10,15,20,25}\n",
    "- Além disso, vamos testar com dois modelos diferentes de ponderação: \n",
    "\n",
    "1) Uniforme: todos os vizinhos tem peso igual\n",
    "2) Não-uniforme(Distância): vizinhos mais próximos têm mais peso"
   ]
  },
  {
   "cell_type": "code",
   "execution_count": 21,
   "id": "f5384f56",
   "metadata": {},
   "outputs": [
    {
     "data": {
      "image/png": "[encoded data removed]",
      "text/plain": [
       "<Figure size 1000x600 with 1 Axes>"
      ]
     },
     "metadata": {},
     "output_type": "display_data"
    },
    {
     "name": "stdout",
     "output_type": "stream",
     "text": [
      "\n",
      "=== UNIFORM weights ===\n",
      "k= 1 | Treino=1.000 | Teste=0.942\n",
      "k= 5 | Treino=0.977 | Teste=0.971\n",
      "k=10 | Treino=0.970 | Teste=0.959\n",
      "k=15 | Treino=0.967 | Teste=0.959\n",
      "k=20 | Treino=0.967 | Teste=0.953\n",
      "k=25 | Treino=0.962 | Teste=0.959\n",
      "\n",
      "=== DISTANCE weights ===\n",
      "k= 1 | Treino=1.000 | Teste=0.942\n",
      "k= 5 | Treino=1.000 | Teste=0.971\n",
      "k=10 | Treino=1.000 | Teste=0.971\n",
      "k=15 | Treino=1.000 | Teste=0.959\n",
      "k=20 | Treino=1.000 | Teste=0.959\n",
      "k=25 | Treino=1.000 | Teste=0.959\n"
     ]
    }
   ],
   "source": [
    "X_train, X_test, y_train, y_test = train_test_split(\n",
    "    X, y_encoded, test_size=0.3, stratify=y_encoded, random_state=42\n",
    ")\n",
    "\n",
    "#testando diferentes k's e modos de ponderação\n",
    "k_values = [1, 5, 10, 15, 20, 25]\n",
    "weight_modes = ['uniform', 'distance']\n",
    "\n",
    "results = {w: {'train': [], 'test': []} for w in weight_modes}\n",
    "\n",
    "for w in weight_modes:\n",
    "    for k in k_values:\n",
    "        #pipeline com MinMaxScaler e kNN\n",
    "        model = Pipeline([\n",
    "            ('scaler', MinMaxScaler()),\n",
    "            ('knn', KNeighborsClassifier(n_neighbors=k, weights=w))\n",
    "        ])\n",
    "        \n",
    "        #treino e validação\n",
    "        model.fit(X_train, y_train)\n",
    "        y_train_pred = model.predict(X_train)\n",
    "        y_test_pred = model.predict(X_test)\n",
    "        \n",
    "        #cal das acurácias\n",
    "        acc_train = accuracy_score(y_train, y_train_pred)\n",
    "        acc_test = accuracy_score(y_test, y_test_pred)\n",
    "        \n",
    "        results[w]['train'].append(acc_train)\n",
    "        results[w]['test'].append(acc_test)\n",
    "\n",
    "#plot do gráfico\n",
    "plt.figure(figsize=(10, 6))\n",
    "for w in weight_modes:\n",
    "    plt.plot(k_values, results[w]['train'], '--o', label=f'Train ({w})')\n",
    "    plt.plot(k_values, results[w]['test'], '-o', label=f'Test ({w})')\n",
    "\n",
    "plt.title(\"kNN - Acurácias de Treino e Teste vs Número de Vizinhos\")\n",
    "plt.xlabel(\"Número de Vizinhos (k)\")\n",
    "plt.ylabel(\"Acurácia\")\n",
    "plt.legend()\n",
    "plt.grid(True)\n",
    "plt.show()\n",
    "\n",
    "#somente printando os resultados numéricos\n",
    "for w in weight_modes:\n",
    "    print(f\"\\n=== {w.upper()} weights ===\")\n",
    "    for k, train_acc, test_acc in zip(k_values, results[w]['train'], results[w]['test']):\n",
    "        print(f\"k={k:2d} | Treino={train_acc:.3f} | Teste={test_acc:.3f}\")"
   ]
  },
  {
   "cell_type": "markdown",
   "id": "6dfdc73a",
   "metadata": {},
   "source": [
    "#### b)"
   ]
  },
  {
   "cell_type": "markdown",
   "id": "300fc030",
   "metadata": {},
   "source": [
    "- De modo geral, o que pode se observar mais é que o parâmetro k vai controlar o nível de suavização do kNN, no qual: \n",
    "- k pequeno -> modelo muito sensível aos dados(baixo viés, alta variância)\n",
    "- k grande -> modelo mais estável e generalizado(alto viés, baixa variância)"
   ]
  },
  {
   "cell_type": "markdown",
   "id": "ca12e078",
   "metadata": {},
   "source": [
    "Podemos agrupar os k em três classes de acordo com os resultados obtidos: \n",
    "\n",
    "1) k=1 -> overfitado, dados de teste não tem bom desempenho\n",
    "2) k={5,10,15} -> boa generalização e menor variância \n",
    "3) k={20,25} -> tendência ao underfiting, perdendo detalhes das estruturas dos dados, pior discriminação entre classes próximas"
   ]
  },
  {
   "cell_type": "markdown",
   "id": "723d6b94",
   "metadata": {},
   "source": [
    "- Quanto as diferentes distribuições, uniforme e por distância: \n",
    "- A uniforme é mais sucetível ao ruídoenquanto \n",
    "- Distância tende a melhorar o desempenho e reduzir o overfiting leve"
   ]
  },
  {
   "cell_type": "markdown",
   "id": "802ccd58",
   "metadata": {},
   "source": [
    "*Valor ótimo: k=10*\n",
    "\n",
    "O valor ótimo para k, olhando a distribuição do plot em questão, pensando em maior generalização agregado a um bom desempenho, acredito que *k=10* por agregar ambas as questões apesar de que k=5 e k=15 também tem excelentes números quanto a essas combinações"
   ]
  },
  {
   "cell_type": "markdown",
   "id": "36354c7e",
   "metadata": {},
   "source": [
    "### 3)"
   ]
  },
  {
   "cell_type": "markdown",
   "id": "d475a813",
   "metadata": {},
   "source": [
    "- No cenário clínico de diagnóstico de câncer de mama, o modelo precisa ser extremamente preciso, confiável, interpretável e eficaz, visto todo o impacto que um falso-positivo, ou falso-negativo, pode ocasionar, tanto pelo impacto físico-mental, já que discorre de um tratamento agressivo de maneira geral, e uma doença extremamente agressiva também "
   ]
  },
  {
   "cell_type": "markdown",
   "id": "9eec678d",
   "metadata": {},
   "source": [
    "Alguns fatores são essenciais na escolha entre kNN e Naive Bayes para estes tipos de caso:"
   ]
  },
  {
   "cell_type": "markdown",
   "id": "9236f185",
   "metadata": {},
   "source": [
    "1) Generalização: \n",
    "- O kNN demonstrou acurácia mais alta e melhor capacidade de generalização após normalização, o que é essencial em diagnóstico médico (minimizar falsos negativos).\n",
    "\n",
    "- O Naive Bayes depende fortemente da hipótese de independência entre variáveis e de distribuição normal, o que pode não refletir adequadamente a correlação entre atributos clínicos (ex.: textura, concavidade e raio do tumor são correlacionados).\n",
    "\n",
    "- Assim, empiricamente, o kNN é mais adequado se houver poder computacional suficiente e os dados forem bem escalonados."
   ]
  },
  {
   "cell_type": "markdown",
   "id": "cd26b3ee",
   "metadata": {},
   "source": [
    "2) Interpretabilidade e custo computacional\n",
    "\n",
    "- O Naive Bayes é um modelo probabilístico explicável — fornece probabilidades condicionais e posteriores explícitas, facilitando a interpretação médica (\"essa paciente tem 92% de chance de malignidade segundo as evidências\").\n",
    "\n",
    "- O kNN é um modelo não-paramétrico e baseado em instâncias, o que significa que:\n",
    "\n",
    "- Ele não aprende parâmetros globais, apenas armazena os dados;\n",
    "\n",
    "- Cada predição exige cálculo de distâncias para todas as amostras de treino;\n",
    "\n",
    "- Portanto, o custo de inferência é alto e não escala bem para grandes bases — o que é crítico em ambientes clínicos com grande volume de pacientes.\n",
    "\n",
    "Em síntese, kNN tem alto custo de inferência e baixa interpretabilidade, já o Naive Bayes tem baixo custo e alta interpretabilidade"
   ]
  },
  {
   "cell_type": "markdown",
   "id": "64218c80",
   "metadata": {},
   "source": [
    "3) Cases de escolha\n",
    "\n",
    "- Se o objetivo principal for precisão diagnóstica máxima e o sistema for usado em cenários controlados com volume moderado de dados, o kNN com MinMaxScaler é a melhor escolha.\n",
    "\n",
    "- Por outro lado, se o sistema precisar de respostas rápidas, interpretabilidade probabilística e fácil escalabilidade (como em um sistema hospitalar com muitos pacientes simultâneos), o Naive Bayes é mais apropriado.\n",
    "\n",
    "Em síntese novamente, o kNN tem maior poder discriminativo, mas um alto custo computacional e pouca interpretabilidade. Já o Naive Bayes é menos preciso, porém mais leve, interpretável e mais confiável sob restrições operacionais"
   ]
  }
 ],
 "metadata": {
  "kernelspec": {
   "display_name": "Python 3",
   "language": "python",
   "name": "python3"
  },
  "language_info": {
   "codemirror_mode": {
    "name": "ipython",
    "version": 3
   },
   "file_extension": ".py",
   "mimetype": "text/x-python",
   "name": "python",
   "nbconvert_exporter": "python",
   "pygments_lexer": "ipython3",
   "version": "3.12.3"
  }
 },
 "nbformat": 4,
 "nbformat_minor": 5
}
