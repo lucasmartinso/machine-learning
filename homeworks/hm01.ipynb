{
 "cells": [
  {
   "cell_type": "markdown",
   "id": "b6d83257",
   "metadata": {},
   "source": [
    "### Homework 01"
   ]
  },
  {
   "cell_type": "markdown",
   "id": "d09c7b19",
   "metadata": {},
   "source": [
    "#### 1)"
   ]
  },
  {
   "cell_type": "markdown",
   "id": "2313f903",
   "metadata": {},
   "source": [
    "- Libs usadas"
   ]
  },
  {
   "cell_type": "code",
   "execution_count": 21,
   "id": "4d0edb69",
   "metadata": {},
   "outputs": [],
   "source": [
    "import pandas as pd\n",
    "import numpy as np\n",
    "from sklearn.model_selection import train_test_split\n",
    "from sklearn.tree import DecisionTreeClassifier, plot_tree\n",
    "from sklearn.impute import SimpleImputer\n",
    "from sklearn.preprocessing import LabelEncoder\n",
    "from sklearn.impute import SimpleImputer\n",
    "from sklearn.datasets import make_classification\n",
    "import matplotlib.pyplot as plt"
   ]
  },
  {
   "cell_type": "markdown",
   "id": "36808a80",
   "metadata": {},
   "source": [
    "- Baixamos inicialmente o dataset de classificação binária de doente e saudável"
   ]
  },
  {
   "cell_type": "code",
   "execution_count": 22,
   "id": "cbca41f5",
   "metadata": {},
   "outputs": [
    {
     "data": {
      "application/vnd.microsoft.datawrangler.viewer.v0+json": {
       "columns": [
        {
         "name": "index",
         "rawType": "int64",
         "type": "integer"
        },
        {
         "name": "age",
         "rawType": "int64",
         "type": "integer"
        },
        {
         "name": "sex",
         "rawType": "int64",
         "type": "integer"
        },
        {
         "name": "chest_pain",
         "rawType": "int64",
         "type": "integer"
        },
        {
         "name": "trestbps",
         "rawType": "int64",
         "type": "integer"
        },
        {
         "name": "fasting_blood_sugar",
         "rawType": "int64",
         "type": "integer"
        },
        {
         "name": "restecg",
         "rawType": "int64",
         "type": "integer"
        },
        {
         "name": "thalach",
         "rawType": "int64",
         "type": "integer"
        },
        {
         "name": "exercise_induce_angina",
         "rawType": "int64",
         "type": "integer"
        },
        {
         "name": "oldpeak",
         "rawType": "float64",
         "type": "float"
        },
        {
         "name": "outcome",
         "rawType": "int64",
         "type": "integer"
        }
       ],
       "ref": "81bff19b-5b33-4e24-b874-0369e60fb41e",
       "rows": [
        [
         "0",
         "28",
         "1",
         "2",
         "130",
         "0",
         "2",
         "185",
         "0",
         "0.0",
         "0"
        ],
        [
         "1",
         "29",
         "1",
         "2",
         "120",
         "0",
         "0",
         "160",
         "0",
         "0.0",
         "0"
        ],
        [
         "2",
         "29",
         "1",
         "2",
         "140",
         "0",
         "0",
         "170",
         "0",
         "0.0",
         "0"
        ],
        [
         "3",
         "30",
         "0",
         "1",
         "170",
         "0",
         "1",
         "170",
         "0",
         "0.0",
         "0"
        ],
        [
         "4",
         "31",
         "0",
         "2",
         "100",
         "0",
         "1",
         "150",
         "0",
         "0.0",
         "0"
        ],
        [
         "5",
         "32",
         "0",
         "2",
         "105",
         "0",
         "0",
         "165",
         "0",
         "0.0",
         "0"
        ],
        [
         "6",
         "32",
         "1",
         "2",
         "110",
         "0",
         "0",
         "184",
         "0",
         "0.0",
         "0"
        ],
        [
         "7",
         "32",
         "1",
         "2",
         "125",
         "0",
         "0",
         "155",
         "0",
         "0.0",
         "0"
        ],
        [
         "8",
         "33",
         "1",
         "3",
         "120",
         "0",
         "0",
         "185",
         "0",
         "0.0",
         "0"
        ],
        [
         "9",
         "34",
         "0",
         "2",
         "130",
         "0",
         "0",
         "190",
         "0",
         "0.0",
         "0"
        ],
        [
         "10",
         "34",
         "1",
         "2",
         "150",
         "0",
         "1",
         "168",
         "0",
         "0.0",
         "0"
        ],
        [
         "11",
         "34",
         "1",
         "2",
         "98",
         "0",
         "0",
         "150",
         "0",
         "0.0",
         "0"
        ],
        [
         "12",
         "35",
         "0",
         "1",
         "120",
         "0",
         "1",
         "185",
         "0",
         "0.0",
         "0"
        ],
        [
         "13",
         "35",
         "0",
         "4",
         "140",
         "0",
         "0",
         "150",
         "0",
         "0.0",
         "0"
        ],
        [
         "14",
         "35",
         "1",
         "2",
         "120",
         "0",
         "2",
         "180",
         "0",
         "0.0",
         "0"
        ],
        [
         "15",
         "35",
         "1",
         "2",
         "150",
         "0",
         "0",
         "168",
         "0",
         "0.0",
         "0"
        ],
        [
         "16",
         "36",
         "1",
         "2",
         "120",
         "0",
         "0",
         "180",
         "0",
         "0.0",
         "0"
        ],
        [
         "17",
         "36",
         "1",
         "3",
         "112",
         "0",
         "0",
         "184",
         "0",
         "1.0",
         "0"
        ],
        [
         "18",
         "36",
         "1",
         "3",
         "130",
         "0",
         "0",
         "178",
         "0",
         "0.0",
         "0"
        ],
        [
         "19",
         "36",
         "1",
         "3",
         "150",
         "0",
         "0",
         "172",
         "0",
         "0.0",
         "0"
        ],
        [
         "20",
         "37",
         "0",
         "2",
         "120",
         "0",
         "0",
         "130",
         "0",
         "0.0",
         "0"
        ],
        [
         "21",
         "37",
         "0",
         "3",
         "130",
         "0",
         "0",
         "142",
         "0",
         "0.0",
         "0"
        ],
        [
         "22",
         "37",
         "0",
         "4",
         "130",
         "0",
         "1",
         "184",
         "0",
         "0.0",
         "0"
        ],
        [
         "23",
         "37",
         "1",
         "2",
         "130",
         "0",
         "1",
         "98",
         "0",
         "0.0",
         "0"
        ],
        [
         "24",
         "37",
         "1",
         "3",
         "130",
         "0",
         "0",
         "150",
         "0",
         "0.0",
         "0"
        ],
        [
         "25",
         "37",
         "1",
         "4",
         "120",
         "0",
         "0",
         "168",
         "0",
         "0.0",
         "0"
        ],
        [
         "26",
         "37",
         "1",
         "4",
         "130",
         "0",
         "0",
         "158",
         "0",
         "0.0",
         "0"
        ],
        [
         "27",
         "38",
         "1",
         "2",
         "140",
         "0",
         "0",
         "150",
         "0",
         "0.0",
         "0"
        ],
        [
         "28",
         "38",
         "1",
         "3",
         "145",
         "0",
         "0",
         "130",
         "0",
         "0.0",
         "0"
        ],
        [
         "29",
         "39",
         "0",
         "3",
         "110",
         "0",
         "1",
         "180",
         "0",
         "0.0",
         "0"
        ],
        [
         "30",
         "39",
         "1",
         "2",
         "120",
         "0",
         "1",
         "146",
         "0",
         "2.0",
         "0"
        ],
        [
         "31",
         "39",
         "1",
         "2",
         "120",
         "0",
         "0",
         "160",
         "1",
         "1.0",
         "0"
        ],
        [
         "32",
         "39",
         "1",
         "2",
         "120",
         "0",
         "0",
         "145",
         "0",
         "0.0",
         "0"
        ],
        [
         "33",
         "39",
         "1",
         "2",
         "130",
         "0",
         "0",
         "120",
         "0",
         "0.0",
         "0"
        ],
        [
         "34",
         "39",
         "1",
         "2",
         "190",
         "0",
         "0",
         "106",
         "0",
         "0.0",
         "0"
        ],
        [
         "35",
         "39",
         "1",
         "3",
         "120",
         "0",
         "0",
         "170",
         "0",
         "0.0",
         "0"
        ],
        [
         "36",
         "39",
         "1",
         "3",
         "160",
         "1",
         "0",
         "160",
         "0",
         "0.0",
         "0"
        ],
        [
         "37",
         "39",
         "1",
         "4",
         "110",
         "0",
         "0",
         "132",
         "0",
         "0.0",
         "0"
        ],
        [
         "38",
         "39",
         "1",
         "4",
         "130",
         "0",
         "0",
         "140",
         "0",
         "0.0",
         "0"
        ],
        [
         "39",
         "40",
         "1",
         "2",
         "130",
         "0",
         "0",
         "150",
         "0",
         "0.0",
         "0"
        ],
        [
         "40",
         "40",
         "1",
         "2",
         "140",
         "0",
         "0",
         "172",
         "0",
         "0.0",
         "0"
        ],
        [
         "41",
         "40",
         "1",
         "3",
         "130",
         "0",
         "0",
         "138",
         "0",
         "0.0",
         "0"
        ],
        [
         "42",
         "40",
         "1",
         "3",
         "130",
         "0",
         "0",
         "167",
         "0",
         "0.0",
         "0"
        ],
        [
         "43",
         "40",
         "1",
         "3",
         "140",
         "0",
         "0",
         "188",
         "0",
         "0.0",
         "0"
        ],
        [
         "44",
         "41",
         "0",
         "2",
         "110",
         "0",
         "1",
         "142",
         "0",
         "0.0",
         "0"
        ],
        [
         "45",
         "41",
         "0",
         "2",
         "125",
         "0",
         "0",
         "180",
         "0",
         "0.0",
         "0"
        ],
        [
         "46",
         "41",
         "0",
         "2",
         "130",
         "0",
         "0",
         "150",
         "0",
         "0.0",
         "0"
        ],
        [
         "47",
         "41",
         "1",
         "2",
         "120",
         "0",
         "1",
         "160",
         "0",
         "0.0",
         "0"
        ],
        [
         "48",
         "41",
         "1",
         "2",
         "120",
         "0",
         "0",
         "170",
         "0",
         "0.0",
         "0"
        ],
        [
         "49",
         "41",
         "1",
         "2",
         "125",
         "0",
         "0",
         "144",
         "0",
         "0.0",
         "0"
        ]
       ],
       "shape": {
        "columns": 10,
        "rows": 284
       }
      },
      "text/html": [
       "<div>\n",
       "<style scoped>\n",
       "    .dataframe tbody tr th:only-of-type {\n",
       "        vertical-align: middle;\n",
       "    }\n",
       "\n",
       "    .dataframe tbody tr th {\n",
       "        vertical-align: top;\n",
       "    }\n",
       "\n",
       "    .dataframe thead th {\n",
       "        text-align: right;\n",
       "    }\n",
       "</style>\n",
       "<table border=\"1\" class=\"dataframe\">\n",
       "  <thead>\n",
       "    <tr style=\"text-align: right;\">\n",
       "      <th></th>\n",
       "      <th>age</th>\n",
       "      <th>sex</th>\n",
       "      <th>chest_pain</th>\n",
       "      <th>trestbps</th>\n",
       "      <th>fasting_blood_sugar</th>\n",
       "      <th>restecg</th>\n",
       "      <th>thalach</th>\n",
       "      <th>exercise_induce_angina</th>\n",
       "      <th>oldpeak</th>\n",
       "      <th>outcome</th>\n",
       "    </tr>\n",
       "  </thead>\n",
       "  <tbody>\n",
       "    <tr>\n",
       "      <th>0</th>\n",
       "      <td>28</td>\n",
       "      <td>1</td>\n",
       "      <td>2</td>\n",
       "      <td>130</td>\n",
       "      <td>0</td>\n",
       "      <td>2</td>\n",
       "      <td>185</td>\n",
       "      <td>0</td>\n",
       "      <td>0.0</td>\n",
       "      <td>0</td>\n",
       "    </tr>\n",
       "    <tr>\n",
       "      <th>1</th>\n",
       "      <td>29</td>\n",
       "      <td>1</td>\n",
       "      <td>2</td>\n",
       "      <td>120</td>\n",
       "      <td>0</td>\n",
       "      <td>0</td>\n",
       "      <td>160</td>\n",
       "      <td>0</td>\n",
       "      <td>0.0</td>\n",
       "      <td>0</td>\n",
       "    </tr>\n",
       "    <tr>\n",
       "      <th>2</th>\n",
       "      <td>29</td>\n",
       "      <td>1</td>\n",
       "      <td>2</td>\n",
       "      <td>140</td>\n",
       "      <td>0</td>\n",
       "      <td>0</td>\n",
       "      <td>170</td>\n",
       "      <td>0</td>\n",
       "      <td>0.0</td>\n",
       "      <td>0</td>\n",
       "    </tr>\n",
       "    <tr>\n",
       "      <th>3</th>\n",
       "      <td>30</td>\n",
       "      <td>0</td>\n",
       "      <td>1</td>\n",
       "      <td>170</td>\n",
       "      <td>0</td>\n",
       "      <td>1</td>\n",
       "      <td>170</td>\n",
       "      <td>0</td>\n",
       "      <td>0.0</td>\n",
       "      <td>0</td>\n",
       "    </tr>\n",
       "    <tr>\n",
       "      <th>4</th>\n",
       "      <td>31</td>\n",
       "      <td>0</td>\n",
       "      <td>2</td>\n",
       "      <td>100</td>\n",
       "      <td>0</td>\n",
       "      <td>1</td>\n",
       "      <td>150</td>\n",
       "      <td>0</td>\n",
       "      <td>0.0</td>\n",
       "      <td>0</td>\n",
       "    </tr>\n",
       "    <tr>\n",
       "      <th>...</th>\n",
       "      <td>...</td>\n",
       "      <td>...</td>\n",
       "      <td>...</td>\n",
       "      <td>...</td>\n",
       "      <td>...</td>\n",
       "      <td>...</td>\n",
       "      <td>...</td>\n",
       "      <td>...</td>\n",
       "      <td>...</td>\n",
       "      <td>...</td>\n",
       "    </tr>\n",
       "    <tr>\n",
       "      <th>279</th>\n",
       "      <td>52</td>\n",
       "      <td>1</td>\n",
       "      <td>4</td>\n",
       "      <td>160</td>\n",
       "      <td>0</td>\n",
       "      <td>0</td>\n",
       "      <td>94</td>\n",
       "      <td>1</td>\n",
       "      <td>2.5</td>\n",
       "      <td>1</td>\n",
       "    </tr>\n",
       "    <tr>\n",
       "      <th>280</th>\n",
       "      <td>54</td>\n",
       "      <td>0</td>\n",
       "      <td>3</td>\n",
       "      <td>130</td>\n",
       "      <td>0</td>\n",
       "      <td>1</td>\n",
       "      <td>100</td>\n",
       "      <td>1</td>\n",
       "      <td>0.0</td>\n",
       "      <td>1</td>\n",
       "    </tr>\n",
       "    <tr>\n",
       "      <th>281</th>\n",
       "      <td>56</td>\n",
       "      <td>1</td>\n",
       "      <td>4</td>\n",
       "      <td>155</td>\n",
       "      <td>1</td>\n",
       "      <td>0</td>\n",
       "      <td>150</td>\n",
       "      <td>1</td>\n",
       "      <td>3.0</td>\n",
       "      <td>1</td>\n",
       "    </tr>\n",
       "    <tr>\n",
       "      <th>282</th>\n",
       "      <td>58</td>\n",
       "      <td>0</td>\n",
       "      <td>2</td>\n",
       "      <td>180</td>\n",
       "      <td>0</td>\n",
       "      <td>0</td>\n",
       "      <td>110</td>\n",
       "      <td>1</td>\n",
       "      <td>1.0</td>\n",
       "      <td>1</td>\n",
       "    </tr>\n",
       "    <tr>\n",
       "      <th>283</th>\n",
       "      <td>65</td>\n",
       "      <td>1</td>\n",
       "      <td>4</td>\n",
       "      <td>130</td>\n",
       "      <td>0</td>\n",
       "      <td>1</td>\n",
       "      <td>115</td>\n",
       "      <td>1</td>\n",
       "      <td>1.0</td>\n",
       "      <td>1</td>\n",
       "    </tr>\n",
       "  </tbody>\n",
       "</table>\n",
       "<p>284 rows × 10 columns</p>\n",
       "</div>"
      ],
      "text/plain": [
       "     age  sex  chest_pain  trestbps  fasting_blood_sugar  restecg  thalach  \\\n",
       "0     28    1           2       130                    0        2      185   \n",
       "1     29    1           2       120                    0        0      160   \n",
       "2     29    1           2       140                    0        0      170   \n",
       "3     30    0           1       170                    0        1      170   \n",
       "4     31    0           2       100                    0        1      150   \n",
       "..   ...  ...         ...       ...                  ...      ...      ...   \n",
       "279   52    1           4       160                    0        0       94   \n",
       "280   54    0           3       130                    0        1      100   \n",
       "281   56    1           4       155                    1        0      150   \n",
       "282   58    0           2       180                    0        0      110   \n",
       "283   65    1           4       130                    0        1      115   \n",
       "\n",
       "     exercise_induce_angina  oldpeak  outcome  \n",
       "0                         0      0.0        0  \n",
       "1                         0      0.0        0  \n",
       "2                         0      0.0        0  \n",
       "3                         0      0.0        0  \n",
       "4                         0      0.0        0  \n",
       "..                      ...      ...      ...  \n",
       "279                       1      2.5        1  \n",
       "280                       1      0.0        1  \n",
       "281                       1      3.0        1  \n",
       "282                       1      1.0        1  \n",
       "283                       1      1.0        1  \n",
       "\n",
       "[284 rows x 10 columns]"
      ]
     },
     "execution_count": 22,
     "metadata": {},
     "output_type": "execute_result"
    }
   ],
   "source": [
    "df = pd.read_csv('./hungarian_heart_diseases.csv')\n",
    "df"
   ]
  },
  {
   "cell_type": "markdown",
   "id": "78dc02b2",
   "metadata": {},
   "source": [
    "Pré processamento:\n",
    "\n",
    "- Colunas categóricas demandam aplicação de one-hot-encoding -> Não existem neste caso todas são numéricas discretas, exceto old_peak que é numérica continua\n",
    "- Tratamento de valores faltantes(null values): não existem neste caso também "
   ]
  },
  {
   "cell_type": "markdown",
   "id": "e5e254be",
   "metadata": {},
   "source": [
    "Treino/ Teste: \n",
    "- Separação do dataset em treino/teste, (80-20) -> enunciado\n",
    "- Usando seed = 1, p/ reprodutibilidade -> enunciado\n",
    "- Passei o parâmetro de estratificação como True, p/ garantir a proporção de classes fique preservada, é importante casoa classificação entre classes esteja desbalanceada, não chega a ser o caso (63.73% - 36.27%)\n",
    "- Usando a quantidades de samples {1,3,5,10,25,50,100}, vamos treinar nossa decision tree\n",
    "- Calculamos a acurácia, o recall dessas "
   ]
  },
  {
   "cell_type": "code",
   "execution_count": 23,
   "id": "206df6d6",
   "metadata": {},
   "outputs": [
    {
     "name": "stdout",
     "output_type": "stream",
     "text": [
      "   min_samples_leaf  train_accuracy  test_accuracy\n",
      "0                 1        1.000000       0.771930\n",
      "1                 3        0.907489       0.789474\n",
      "2                 5        0.859031       0.807018\n",
      "3                10        0.837004       0.807018\n",
      "4                25        0.810573       0.859649\n",
      "5                50        0.801762       0.719298\n",
      "6               100        0.638767       0.631579\n"
     ]
    }
   ],
   "source": [
    "y = df['outcome'].copy()\n",
    "X = df.drop(columns=['outcome']).copy()\n",
    "\n",
    "\n",
    "X_train, X_test, y_train, y_test = train_test_split(\n",
    "    X, y, test_size=0.2, stratify=y, random_state=1\n",
    ")\n",
    "\n",
    "leaf_values = [1, 3, 5, 10, 25, 50, 100]\n",
    "results = []\n",
    "for leaf in leaf_values:\n",
    "    clf = DecisionTreeClassifier(min_samples_leaf=leaf, random_state=1)\n",
    "    clf.fit(X_train, y_train)\n",
    "    results.append({\n",
    "        'min_samples_leaf': leaf,\n",
    "        'train_accuracy': clf.score(X_train, y_train),\n",
    "        'test_accuracy': clf.score(X_test, y_test),\n",
    "    })\n",
    "\n",
    "res_df = pd.DataFrame(results)\n",
    "print(res_df)"
   ]
  },
  {
   "cell_type": "markdown",
   "id": "bd881baa",
   "metadata": {},
   "source": [
    "- Comparando as acurácias dos datasets de treino/test em formato gráfico"
   ]
  },
  {
   "cell_type": "code",
   "execution_count": 24,
   "id": "081d5535",
   "metadata": {},
   "outputs": [
    {
     "data": {
      "image/png": "[encoded data removed]",
      "text/plain": [
       "<Figure size 900x500 with 1 Axes>"
      ]
     },
     "metadata": {},
     "output_type": "display_data"
    }
   ],
   "source": [
    "plt.figure(figsize=(9,5))\n",
    "plt.plot(res_df['min_samples_leaf'], res_df['train_accuracy'], marker='o', label='Training accuracy')\n",
    "plt.plot(res_df['min_samples_leaf'], res_df['test_accuracy'], marker='s', label='Testing accuracy')\n",
    "plt.xticks(res_df['min_samples_leaf'])\n",
    "plt.xlabel('min_samples_leaf')\n",
    "plt.ylabel('Accuracy')\n",
    "plt.title('Decision Tree: training vs testing accuracy (estratified 80/20, random_state=1)')\n",
    "plt.ylim(0.0, 1.05)\n",
    "plt.grid(True)\n",
    "plt.legend()\n",
    "plt.show()"
   ]
  },
  {
   "cell_type": "markdown",
   "id": "00674b9a",
   "metadata": {},
   "source": [
    "#### 2) "
   ]
  },
  {
   "cell_type": "markdown",
   "id": "79b5fe34",
   "metadata": {},
   "source": [
    "- Fazendo uma análise crítica sobre podemos observar em que quanto menos observações há, mais o modelo se torna muito específico, ou seja, no qual se observa o overfiting natural por conta deste processo de extrema especificidade, visto que, isso é demonstrado pela baixa acurácia do dataset de teste "
   ]
  },
  {
   "cell_type": "markdown",
   "id": "9dbc0590",
   "metadata": {},
   "source": [
    "- Agora no caso de uma amostragem extremamente grande, acontece o underfiting, visto que o modelo fica extremamente generalista e acaba generalizando até demais que pode levar a alucinações, por exemplo, explicando assim a baixa acurácia da sample quando é 100, tanto em teste quanto em treino"
   ]
  },
  {
   "cell_type": "markdown",
   "id": "684c7480",
   "metadata": {},
   "source": [
    "- Os melhores resultados ficaram por conta das samples de 10 e 25, principalmente da de 25, que não ficou nem over nem underfitada, em que teve uma boa capacidade de generalizar, e principalmente a de 25 que tem uma base de dados mais considerável apresnetou resultados muito bons , tanto em treino quanto em teste"
   ]
  },
  {
   "cell_type": "markdown",
   "id": "fc348eae",
   "metadata": {},
   "source": [
    "### 3)"
   ]
  },
  {
   "cell_type": "markdown",
   "id": "8bf3c094",
   "metadata": {},
   "source": [
    "- Carregamos o dataset novamente a fim de evitar qualquer tipo de modificação realizada sobre ele"
   ]
  },
  {
   "cell_type": "code",
   "execution_count": 25,
   "id": "99c1b551",
   "metadata": {},
   "outputs": [],
   "source": [
    "df = pd.read_csv('./hungarian_heart_diseases.csv')\n",
    "y = df['outcome'].copy()\n",
    "X = df.drop(columns=['outcome']).copy()"
   ]
  },
  {
   "cell_type": "markdown",
   "id": "7990b3cc",
   "metadata": {},
   "source": [
    "Dividimos o dataset:\n",
    "- (60/20/20), (treino/teste/validação) -> como enunciado solicita"
   ]
  },
  {
   "cell_type": "code",
   "execution_count": 26,
   "id": "d01e4d15",
   "metadata": {},
   "outputs": [
    {
     "name": "stdout",
     "output_type": "stream",
     "text": [
      "Quantidade de entidades: treino=170, val=57, teste=57\n"
     ]
    }
   ],
   "source": [
    "X_train, X_temp, y_train, y_temp = train_test_split(\n",
    "    X, y, test_size=0.4, stratify=y, random_state=1\n",
    ")\n",
    "\n",
    "X_val, X_test, y_val, y_test = train_test_split(\n",
    "    X_temp, y_temp, test_size=0.5, stratify=y_temp, random_state=1\n",
    ")\n",
    "\n",
    "print(f\"Quantidade de entidades: treino={len(y_train)}, val={len(y_val)}, teste={len(y_test)}\")"
   ]
  },
  {
   "cell_type": "markdown",
   "id": "f760c686",
   "metadata": {},
   "source": [
    "- Afim de atingir a acurácia desejada, precisamos buscar uma boa combinação de hiperparâmetros que faça sentido para a nossa distribuição de dataset atual\n",
    "- Testamos as seguintes combinações\n",
    "\n",
    "    1) max_depth ∈ {2, 3, 4}\n",
    "    2) min_samples_split ∈ {2, …, 100}\n",
    "\n",
    "- Para cada uma dessas combinações que serão feitas no loop, guardamos no array os resultados da acurácia, dado treino -> teste -> validação\n",
    "- Lembrando que nossos candidatos tem que satisfazer: 80% acc p/ treino e 78.5% p/ teste"
   ]
  },
  {
   "cell_type": "code",
   "execution_count": 27,
   "id": "1164edd3",
   "metadata": {},
   "outputs": [],
   "source": [
    "best_model = None\n",
    "results = []\n",
    "\n",
    "for depth in [2, 3, 4]:\n",
    "    for min_split in range(2, 101):\n",
    "        clf = DecisionTreeClassifier(\n",
    "            max_depth=depth, min_samples_split=min_split, random_state=1\n",
    "        )\n",
    "        clf.fit(X_train, y_train)\n",
    "        train_acc = clf.score(X_train, y_train)\n",
    "        val_acc = clf.score(X_val, y_val)\n",
    "        test_acc = clf.score(X_test, y_test)\n",
    "\n",
    "        results.append((depth, min_split, train_acc, val_acc, test_acc))\n",
    "\n",
    "        if val_acc >= 0.80 and test_acc >= 0.785:\n",
    "            if best_model is None or clf.score(X_val, y_val) > best_model.score(X_val, y_val):\n",
    "                best_model = clf\n",
    "            elif val_acc == best_model.score(X_val, y_val):\n",
    "                if clf.score(X_test, y_test) > best_model.score(X_test, y_test):\n",
    "                    best_model = clf\n",
    "            elif val_acc == best_model.score(X_val, y_val) and test_acc == best_model.score(X_test, y_test):\n",
    "                if clf.score(X_train, y_train) > best_model.score(X_train, y_train):\n",
    "                    best_model = clf\n",
    "            elif val_acc == best_model.score(X_val, y_val) and test_acc == best_model.score(X_test, y_test) and clf.score(X_train, y_train) == best_model.score(X_train, y_train):\n",
    "                if depth < best_model.get_depth():\n",
    "                    best_model = clf\n",
    "            elif val_acc == best_model.score(X_val, y_val) and test_acc == best_model.score(X_test, y_test) and clf.score(X_train, y_train) == best_model.score(X_train, y_train) and depth == best_model.get_depth():\n",
    "                if min_split > best_model.min_samples_split:\n",
    "                    best_model = clf"
   ]
  },
  {
   "cell_type": "markdown",
   "id": "ff3e547e",
   "metadata": {},
   "source": [
    "- Dada essa lista de candidatos p/ realizarmos uma determinada escolha, poderíamos nos basear em alguns critérios, como: maior valor de acurácia na validação, idem para o teste, o que tem menor profundidade, etc\n",
    "- O critério que adotei foi escolher aquele que apresenta-se a melhor acurácia quanto a validação, sempre satisfazendo os critérios mínimos estabelecidos pelo enunciado\n",
    "- Caso aconteça um empate, o que existe uma probalidade real, visto que o dataset é pequeno, iremos usar como desempate, melhor acc em teste, melhor acc em treino, menor profundidade, melhor acurácia em teste e por último maior número de samples "
   ]
  },
  {
   "cell_type": "code",
   "execution_count": 28,
   "id": "387bde0a",
   "metadata": {},
   "outputs": [
    {
     "name": "stdout",
     "output_type": "stream",
     "text": [
      "     depth  min_split     train       val      test\n",
      "211      4         15  0.876471  0.807018  0.789474\n",
      "207      4         11  0.876471  0.807018  0.789474\n",
      "212      4         16  0.876471  0.807018  0.789474\n",
      "213      4         17  0.876471  0.807018  0.789474\n",
      "214      4         18  0.876471  0.807018  0.789474\n",
      "Modelo escolhido: DecisionTreeClassifier(max_depth=4, min_samples_split=11, random_state=1)\n"
     ]
    }
   ],
   "source": [
    "res_df = pd.DataFrame(results, columns=[\"depth\",\"min_split\",\"train\",\"val\",\"test\"])\n",
    "print(res_df.sort_values(\"val\", ascending=False).head())\n",
    "\n",
    "if best_model:\n",
    "    print(\"Modelo escolhido:\", best_model)\n",
    "else:\n",
    "    print(\"Nenhum modelo atingiu os requisitos.\")"
   ]
  },
  {
   "cell_type": "code",
   "execution_count": 29,
   "id": "34aabff9",
   "metadata": {},
   "outputs": [
    {
     "data": {
      "image/png": "[encoded data removed]",
      "text/plain": [
       "<Figure size 1600x800 with 1 Axes>"
      ]
     },
     "metadata": {},
     "output_type": "display_data"
    },
    {
     "name": "stdout",
     "output_type": "stream",
     "text": [
      "|--- chest_pain <= 3.50\n",
      "|   |--- oldpeak <= 0.50\n",
      "|   |   |--- thalach <= 96.00\n",
      "|   |   |   |--- class: 1\n",
      "|   |   |--- thalach >  96.00\n",
      "|   |   |   |--- exercise_induce_angina <= 0.50\n",
      "|   |   |   |   |--- class: 0\n",
      "|   |   |   |--- exercise_induce_angina >  0.50\n",
      "|   |   |   |   |--- class: 0\n",
      "|   |--- oldpeak >  0.50\n",
      "|   |   |--- trestbps <= 133.00\n",
      "|   |   |   |--- trestbps <= 125.00\n",
      "|   |   |   |   |--- class: 0\n",
      "|   |   |   |--- trestbps >  125.00\n",
      "|   |   |   |   |--- class: 0\n",
      "|   |   |--- trestbps >  133.00\n",
      "|   |   |   |--- class: 1\n",
      "|--- chest_pain >  3.50\n",
      "|   |--- sex <= 0.50\n",
      "|   |   |--- class: 0\n",
      "|   |--- sex >  0.50\n",
      "|   |   |--- oldpeak <= 0.75\n",
      "|   |   |   |--- thalach <= 145.00\n",
      "|   |   |   |   |--- class: 0\n",
      "|   |   |   |--- thalach >  145.00\n",
      "|   |   |   |   |--- class: 1\n",
      "|   |   |--- oldpeak >  0.75\n",
      "|   |   |   |--- restecg <= 0.50\n",
      "|   |   |   |   |--- class: 1\n",
      "|   |   |   |--- restecg >  0.50\n",
      "|   |   |   |   |--- class: 1\n",
      "\n"
     ]
    }
   ],
   "source": [
    "plt.figure(figsize=(16,8))\n",
    "plot_tree(best_model, feature_names=X.columns, class_names=[\"Normal\",\"Disease\"], filled=True)\n",
    "plt.show()\n",
    "\n",
    "from sklearn import tree\n",
    "text_rules = tree.export_text(best_model, feature_names=list(X.columns))\n",
    "print(text_rules)"
   ]
  }
 ],
 "metadata": {
  "kernelspec": {
   "display_name": "Python 3",
   "language": "python",
   "name": "python3"
  },
  "language_info": {
   "codemirror_mode": {
    "name": "ipython",
    "version": 3
   },
   "file_extension": ".py",
   "mimetype": "text/x-python",
   "name": "python",
   "nbconvert_exporter": "python",
   "pygments_lexer": "ipython3",
   "version": "3.12.3"
  }
 },
 "nbformat": 4,
 "nbformat_minor": 5
}
